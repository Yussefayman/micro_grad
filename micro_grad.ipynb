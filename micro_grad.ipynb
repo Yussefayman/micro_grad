{
 "cells": [
  {
   "cell_type": "markdown",
   "metadata": {},
   "source": [
    "## Imports"
   ]
  },
  {
   "cell_type": "code",
   "execution_count": 2,
   "metadata": {},
   "outputs": [],
   "source": [
    "import math\n",
    "import numpy as np\n",
    "import matplotlib.pyplot as plt\n",
    "%matplotlib inline"
   ]
  },
  {
   "cell_type": "markdown",
   "metadata": {},
   "source": [
    "An example function to cement the important concepts"
   ]
  },
  {
   "cell_type": "code",
   "execution_count": 3,
   "metadata": {},
   "outputs": [],
   "source": [
    "def f(x):\n",
    "    return 3*x**2-4*x+5"
   ]
  },
  {
   "cell_type": "markdown",
   "metadata": {},
   "source": [
    "Building a range of values to feed in the function and plotting it against it's f(x) results"
   ]
  },
  {
   "cell_type": "code",
   "execution_count": 4,
   "metadata": {},
   "outputs": [
    {
     "data": {
      "image/png": "[encoded data removed]",
      "text/plain": [
       "<Figure size 640x480 with 1 Axes>"
      ]
     },
     "metadata": {},
     "output_type": "display_data"
    }
   ],
   "source": [
    "xs = np.arange(-5,5,0.25)\n",
    "ys = f(xs)\n",
    "plt.plot(xs,ys);"
   ]
  },
  {
   "cell_type": "markdown",
   "metadata": {},
   "source": [
    "Derivatives Intuition:\n",
    "what happens if we nudge a given f(x) where x = 3 by small value h? do we expect it to go up or down?<br>\n",
    "what is the slope?"
   ]
  },
  {
   "cell_type": "markdown",
   "metadata": {},
   "source": [
    "Slope : The slope of a line is a measure of its steepness. Mathematically, slope is calculated as \"rise over run\" (change in y divided by change in x).<br>\n",
    "In other words: e.g if a slope is -3/4 for every three units we move vertically down the line, we move four units horizontally to the right."
   ]
  },
  {
   "cell_type": "code",
   "execution_count": 5,
   "metadata": {},
   "outputs": [
    {
     "name": "stdout",
     "output_type": "stream",
     "text": [
      "Normal f(x) = 20\n",
      "Pumped f(x+h) = 20.0001400003\n",
      "Slope = 14.00003000000538\n"
     ]
    }
   ],
   "source": [
    "h = 0.00001\n",
    "x = 3\n",
    "pumped_x = f(x+h)\n",
    "slope = (f(x + h)-f(x)) / h\n",
    "print('Normal f(x) =', f(x))\n",
    "print('Pumped f(x+h) =',pumped_x)\n",
    "print('Slope =',slope)"
   ]
  },
  {
   "cell_type": "code",
   "execution_count": 6,
   "metadata": {},
   "outputs": [
    {
     "name": "stdout",
     "output_type": "stream",
     "text": [
      "Normal f(x) = 44\n",
      "Pumped f(x+h) = 43.999978000003\n",
      "Slope =  -21.999997002808414\n"
     ]
    }
   ],
   "source": [
    "h = 0.000001\n",
    "x = -3\n",
    "pumped_x = f(x+h)\n",
    "slope = (f(x+h) - f(x)) / h\n",
    "print('Normal f(x) =',f(x))\n",
    "print('Pumped f(x+h) =',pumped_x)\n",
    "print('Slope = ',slope)\n",
    "\n"
   ]
  },
  {
   "cell_type": "markdown",
   "metadata": {},
   "source": [
    "Slope = 0, if we nudge x to positive direction by h, it stays the same as zero"
   ]
  },
  {
   "cell_type": "code",
   "execution_count": 7,
   "metadata": {},
   "outputs": [
    {
     "data": {
      "text/plain": [
       "0.0"
      ]
     },
     "execution_count": 7,
     "metadata": {},
     "output_type": "execute_result"
    }
   ],
   "source": [
    "h = 0.00000001\n",
    "x = 2/3\n",
    "(f(x+h)-f(x)) / h"
   ]
  },
  {
   "cell_type": "markdown",
   "metadata": {},
   "source": [
    "More Complex Function :"
   ]
  },
  {
   "cell_type": "code",
   "execution_count": 8,
   "metadata": {},
   "outputs": [
    {
     "name": "stdout",
     "output_type": "stream",
     "text": [
      "4.0\n"
     ]
    }
   ],
   "source": [
    "a = 2.0\n",
    "b = -3.0\n",
    "c = 10.0\n",
    "d = a*b + c\n",
    "print(d)"
   ]
  },
  {
   "cell_type": "markdown",
   "metadata": {},
   "source": [
    "We add tiny amount h to variable a"
   ]
  },
  {
   "cell_type": "code",
   "execution_count": 9,
   "metadata": {},
   "outputs": [
    {
     "name": "stdout",
     "output_type": "stream",
     "text": [
      "Normal d1 =  4.0\n",
      "Pumped d2 =  3.9999699999999994\n",
      "Slope =  -3.000000000064062\n"
     ]
    }
   ],
   "source": [
    "h =0.00001\n",
    "#inputs\n",
    "a = 2.0\n",
    "b = -3.0\n",
    "c = 10.0\n",
    "\n",
    "d1 = a*b + c\n",
    "a+=h\n",
    "d2 = a*b+c\n",
    "print('Normal d1 = ',d1)\n",
    "print('Pumped d2 = ',d2)\n",
    "print('Slope = ',(d2-d1)/h)\n"
   ]
  },
  {
   "cell_type": "markdown",
   "metadata": {},
   "source": [
    "We add tiny amount h to variable b\n"
   ]
  },
  {
   "cell_type": "code",
   "execution_count": 10,
   "metadata": {},
   "outputs": [
    {
     "name": "stdout",
     "output_type": "stream",
     "text": [
      "Normal d1 =  4.0\n",
      "Pumped d2 =  4.00002\n",
      "Slope =  2.0000000000131024\n"
     ]
    }
   ],
   "source": [
    "h =0.00001\n",
    "#inputs\n",
    "a = 2.0\n",
    "b = -3.0\n",
    "c = 10.0\n",
    "\n",
    "d1 = a*b + c\n",
    "b+=h\n",
    "d2 = a*b+c\n",
    "print('Normal d1 = ',d1)\n",
    "print('Pumped d2 = ',d2)\n",
    "print('Slope = ',(d2-d1)/h)"
   ]
  },
  {
   "cell_type": "markdown",
   "metadata": {},
   "source": [
    "We add tiny amount h to variable c\n"
   ]
  },
  {
   "cell_type": "code",
   "execution_count": 11,
   "metadata": {},
   "outputs": [
    {
     "name": "stdout",
     "output_type": "stream",
     "text": [
      "Normal d1 =  4.0\n",
      "Pumped d2 =  4.00001\n",
      "Slope =  0.9999999999621422\n"
     ]
    }
   ],
   "source": [
    "h =0.00001\n",
    "#inputs\n",
    "a = 2.0\n",
    "b = -3.0\n",
    "c = 10.0\n",
    "\n",
    "d1 = a*b + c\n",
    "c+=h\n",
    "d2 = a*b+c\n",
    "print('Normal d1 = ',d1)\n",
    "print('Pumped d2 = ',d2)\n",
    "print('Slope = ',(d2-d1)/h)"
   ]
  },
  {
   "cell_type": "markdown",
   "metadata": {},
   "source": [
    "Here: we need a data structure to handle massive inputs for neural networks stuff so we make class Value"
   ]
  },
  {
   "cell_type": "code",
   "execution_count": 112,
   "metadata": {},
   "outputs": [
    {
     "data": {
      "text/plain": [
       "Value(data=-8.0)"
      ]
     },
     "execution_count": 112,
     "metadata": {},
     "output_type": "execute_result"
    }
   ],
   "source": [
    "class Value:\n",
    "    def __init__(self,data,_children=(),_op ='',label = ''):\n",
    "        self.data = data\n",
    "        self._prev = set(_children)\n",
    "        self._backward = lambda: None\n",
    "        self._op = _op\n",
    "        self.label = label\n",
    "        self.grad = 0.0\n",
    "    \n",
    "    def __repr__(self) -> str:\n",
    "        return f'Value(data={self.data})'\n",
    "    \n",
    "    def __add__(self,other):\n",
    "        other = other if isinstance(other,Value) else Value(other)\n",
    "        out = Value(self.data + other.data,(self,other),'+')\n",
    "        def _backward():\n",
    "            self.grad += 1.0 * out.grad\n",
    "            other.grad += 1.0 * out.grad \n",
    "        \n",
    "        out._backward = _backward\n",
    "        return out\n",
    "    \n",
    "    def __neg__(self):\n",
    "        return self*-1\n",
    "    \n",
    "    def __sub__(self,other):\n",
    "        return self + (-other)\n",
    "    \n",
    "    def __mul__(self,other):\n",
    "        other = other if isinstance(other,Value) else Value(other)\n",
    "        out =  Value(self.data * other.data,(self,other),'*')\n",
    "        def _backward():\n",
    "            self.grad += other.data * out.grad\n",
    "            other.grad += self.data * out.grad\n",
    "        \n",
    "        out._backward = _backward\n",
    "        return out\n",
    "    \n",
    "    \n",
    "    def __rmul__(self,other):\n",
    "        return self * other\n",
    "    \n",
    "    def __pow__(self,other):\n",
    "        assert isinstance(other,(int,float)), 'only support int / float powers for now'\n",
    "        out = Value(self.data**other,(self,), f'**{other}')\n",
    "        def _backward():\n",
    "            self.grad +=  other*(self.data**(other-1))*out.grad  \n",
    "        out._backward = _backward\n",
    "        return out\n",
    "    \n",
    "    def __truediv__(self,other):\n",
    "        return self*other**-1\n",
    "\n",
    "    def tanh(self):\n",
    "        x = self.data\n",
    "        t = ((math.exp(2*x)-1)) / ((math.exp(2*x)+1))\n",
    "        out = Value(t,(self,),'tanh')\n",
    "        def _backward():\n",
    "            self.grad += (1-t**2)*out.grad\n",
    "        out._backward = _backward\n",
    "        return out\n",
    "    \n",
    "    def exp(self):\n",
    "        x = self.data\n",
    "        out = Value(math.exp(x),(self,),'exp')\n",
    "        def _backward():\n",
    "            self.grad += out.data * out.grad\n",
    "\n",
    "        out._backward = _backward\n",
    "        return out\n",
    "    \n",
    "    def backward(self):\n",
    "        \n",
    "        topo = []\n",
    "        visited = set()\n",
    "        def build_topo(v):\n",
    "            if v not in visited:\n",
    "                visited.add(v)\n",
    "                for child in v._prev:\n",
    "                    build_topo(child)\n",
    "                \n",
    "                topo.append(v)\n",
    "        build_topo(self)\n",
    "        self.grad = 1.0\n",
    "        for node in reversed(topo):\n",
    "            node._backward()\n",
    "\n",
    "\n",
    "a = Value(2.0,label = 'a')\n",
    "b = Value(-3.0,label = 'b')\n",
    "c = Value(10.0,label='c')\n",
    "e = a*b; e.label = 'e'\n",
    "d = e + c ; d.label = 'd'\n",
    "f = Value(-2.0,label='f')\n",
    "L = d*f; L.label='L'\n",
    "L\n",
    "    "
   ]
  },
  {
   "cell_type": "code",
   "execution_count": 113,
   "metadata": {},
   "outputs": [
    {
     "data": {
      "text/plain": [
       "Value(data=5.0)"
      ]
     },
     "execution_count": 113,
     "metadata": {},
     "output_type": "execute_result"
    }
   ],
   "source": [
    "a - b"
   ]
  },
  {
   "cell_type": "markdown",
   "metadata": {},
   "source": [
    "We use graphviz for visualization of the forward and backward graph to better understand the sequence"
   ]
  },
  {
   "cell_type": "code",
   "execution_count": 24,
   "metadata": {},
   "outputs": [],
   "source": [
    "from graphviz import Digraph\n",
    "\n",
    "def trace(root):\n",
    "    nodes, edges = set(), set()\n",
    "    def build(v):\n",
    "        if v not in nodes:\n",
    "            nodes.add(v)\n",
    "            for child in v._prev:\n",
    "                edges.add((child, v))\n",
    "                build(child)\n",
    "    build(root)\n",
    "    return nodes, edges\n",
    "\n",
    "def draw_dot(root, format='svg', rankdir='LR'):\n",
    "    \"\"\"\n",
    "    format: png | svg | ...\n",
    "    rankdir: TB (top to bottom graph) | LR (left to right)\n",
    "    \"\"\"\n",
    "    assert rankdir in ['LR']\n",
    "    nodes, edges = trace(root)\n",
    "    dot = Digraph(format=format, graph_attr={'rankdir': rankdir}) #, node_attr={'rankdir': 'TB'})\n",
    "    \n",
    "    for n in nodes:\n",
    "        dot.node(name=str(id(n)), label = \"{ %s | data %.4f | grad %.4f }\" % (n.label,n.data,n.grad), shape='record')\n",
    "        if n._op:\n",
    "            dot.node(name=str(id(n)) + n._op, label=n._op)\n",
    "            dot.edge(str(id(n)) + n._op, str(id(n)))\n",
    "    \n",
    "    for n1, n2 in edges:\n",
    "        dot.edge(str(id(n1)), str(id(n2)) + n2._op)\n",
    "    \n",
    "    return dot\n"
   ]
  },
  {
   "cell_type": "code",
   "execution_count": 25,
   "metadata": {},
   "outputs": [
    {
     "data": {
      "image/svg+xml": "<?xml version=\"1.0\" encoding=\"UTF-8\" standalone=\"no\"?>\n<!DOCTYPE svg PUBLIC \"-//W3C//DTD SVG 1.1//EN\"\n \"http://www.w3.org/Graphics/SVG/1.1/DTD/svg11.dtd\">\n<!-- Generated by graphviz version 2.50.0 (0)\n -->\n<!-- Pages: 1 -->\n<svg width=\"1332pt\" height=\"128pt\"\n viewBox=\"0.00 0.00 1332.00 128.00\" xmlns=\"http://www.w3.org/2000/svg\" xmlns:xlink=\"http://www.w3.org/1999/xlink\">\n<g id=\"graph0\" class=\"graph\" transform=\"scale(1 1) rotate(0) translate(4 124)\">\n<polygon fill=\"white\" stroke=\"transparent\" points=\"-4,4 -4,-124 1328,-124 1328,4 -4,4\"/>\n<!-- 140535728312320 -->\n<g id=\"node1\" class=\"node\">\n<title>140535728312320</title>\n<polygon fill=\"none\" stroke=\"black\" points=\"1087,-27.5 1087,-63.5 1324,-63.5 1324,-27.5 1087,-27.5\"/>\n<text text-anchor=\"middle\" x=\"1100\" y=\"-41.8\" font-family=\"Times,serif\" font-size=\"14.00\">L</text>\n<polyline fill=\"none\" stroke=\"black\" points=\"1113,-27.5 1113,-63.5 \"/>\n<text text-anchor=\"middle\" x=\"1166.5\" y=\"-41.8\" font-family=\"Times,serif\" font-size=\"14.00\">data &#45;8.0000</text>\n<polyline fill=\"none\" stroke=\"black\" points=\"1220,-27.5 1220,-63.5 \"/>\n<text text-anchor=\"middle\" x=\"1272\" y=\"-41.8\" font-family=\"Times,serif\" font-size=\"14.00\">grad 0.0000</text>\n</g>\n<!-- 140535728312320* -->\n<g id=\"node2\" class=\"node\">\n<title>140535728312320*</title>\n<ellipse fill=\"none\" stroke=\"black\" cx=\"1024\" cy=\"-45.5\" rx=\"27\" ry=\"18\"/>\n<text text-anchor=\"middle\" x=\"1024\" y=\"-41.8\" font-family=\"Times,serif\" font-size=\"14.00\">*</text>\n</g>\n<!-- 140535728312320*&#45;&gt;140535728312320 -->\n<g id=\"edge1\" class=\"edge\">\n<title>140535728312320*&#45;&gt;140535728312320</title>\n<path fill=\"none\" stroke=\"black\" d=\"M1051.1,-45.5C1058.61,-45.5 1067.33,-45.5 1076.75,-45.5\"/>\n<polygon fill=\"black\" stroke=\"black\" points=\"1076.78,-49 1086.78,-45.5 1076.78,-42 1076.78,-49\"/>\n</g>\n<!-- 140535728648832 -->\n<g id=\"node3\" class=\"node\">\n<title>140535728648832</title>\n<polygon fill=\"none\" stroke=\"black\" points=\"363,-83.5 363,-119.5 602,-119.5 602,-83.5 363,-83.5\"/>\n<text text-anchor=\"middle\" x=\"375\" y=\"-97.8\" font-family=\"Times,serif\" font-size=\"14.00\">c</text>\n<polyline fill=\"none\" stroke=\"black\" points=\"387,-83.5 387,-119.5 \"/>\n<text text-anchor=\"middle\" x=\"442.5\" y=\"-97.8\" font-family=\"Times,serif\" font-size=\"14.00\">data 10.0000</text>\n<polyline fill=\"none\" stroke=\"black\" points=\"498,-83.5 498,-119.5 \"/>\n<text text-anchor=\"middle\" x=\"550\" y=\"-97.8\" font-family=\"Times,serif\" font-size=\"14.00\">grad 0.0000</text>\n</g>\n<!-- 140535728317648+ -->\n<g id=\"node5\" class=\"node\">\n<title>140535728317648+</title>\n<ellipse fill=\"none\" stroke=\"black\" cx=\"665\" cy=\"-73.5\" rx=\"27\" ry=\"18\"/>\n<text text-anchor=\"middle\" x=\"665\" y=\"-69.8\" font-family=\"Times,serif\" font-size=\"14.00\">+</text>\n</g>\n<!-- 140535728648832&#45;&gt;140535728317648+ -->\n<g id=\"edge4\" class=\"edge\">\n<title>140535728648832&#45;&gt;140535728317648+</title>\n<path fill=\"none\" stroke=\"black\" d=\"M599.6,-83.49C609.91,-81.89 619.74,-80.37 628.46,-79.01\"/>\n<polygon fill=\"black\" stroke=\"black\" points=\"629.18,-82.44 638.52,-77.45 628.1,-75.53 629.18,-82.44\"/>\n</g>\n<!-- 140535728317648 -->\n<g id=\"node4\" class=\"node\">\n<title>140535728317648</title>\n<polygon fill=\"none\" stroke=\"black\" points=\"728.5,-55.5 728.5,-91.5 960.5,-91.5 960.5,-55.5 728.5,-55.5\"/>\n<text text-anchor=\"middle\" x=\"741.5\" y=\"-69.8\" font-family=\"Times,serif\" font-size=\"14.00\">d</text>\n<polyline fill=\"none\" stroke=\"black\" points=\"754.5,-55.5 754.5,-91.5 \"/>\n<text text-anchor=\"middle\" x=\"805.5\" y=\"-69.8\" font-family=\"Times,serif\" font-size=\"14.00\">data 4.0000</text>\n<polyline fill=\"none\" stroke=\"black\" points=\"856.5,-55.5 856.5,-91.5 \"/>\n<text text-anchor=\"middle\" x=\"908.5\" y=\"-69.8\" font-family=\"Times,serif\" font-size=\"14.00\">grad 0.0000</text>\n</g>\n<!-- 140535728317648&#45;&gt;140535728312320* -->\n<g id=\"edge9\" class=\"edge\">\n<title>140535728317648&#45;&gt;140535728312320*</title>\n<path fill=\"none\" stroke=\"black\" d=\"M959.67,-55.49C969.61,-53.92 979.08,-52.43 987.53,-51.1\"/>\n<polygon fill=\"black\" stroke=\"black\" points=\"988.31,-54.52 997.64,-49.5 987.22,-47.6 988.31,-54.52\"/>\n</g>\n<!-- 140535728317648+&#45;&gt;140535728317648 -->\n<g id=\"edge2\" class=\"edge\">\n<title>140535728317648+&#45;&gt;140535728317648</title>\n<path fill=\"none\" stroke=\"black\" d=\"M692.19,-73.5C699.78,-73.5 708.61,-73.5 718.11,-73.5\"/>\n<polygon fill=\"black\" stroke=\"black\" points=\"718.24,-77 728.24,-73.5 718.24,-70 718.24,-77\"/>\n</g>\n<!-- 140535728314672 -->\n<g id=\"node6\" class=\"node\">\n<title>140535728314672</title>\n<polygon fill=\"none\" stroke=\"black\" points=\"364.5,-28.5 364.5,-64.5 600.5,-64.5 600.5,-28.5 364.5,-28.5\"/>\n<text text-anchor=\"middle\" x=\"377\" y=\"-42.8\" font-family=\"Times,serif\" font-size=\"14.00\">e</text>\n<polyline fill=\"none\" stroke=\"black\" points=\"389.5,-28.5 389.5,-64.5 \"/>\n<text text-anchor=\"middle\" x=\"443\" y=\"-42.8\" font-family=\"Times,serif\" font-size=\"14.00\">data &#45;6.0000</text>\n<polyline fill=\"none\" stroke=\"black\" points=\"496.5,-28.5 496.5,-64.5 \"/>\n<text text-anchor=\"middle\" x=\"548.5\" y=\"-42.8\" font-family=\"Times,serif\" font-size=\"14.00\">grad 0.0000</text>\n</g>\n<!-- 140535728314672&#45;&gt;140535728317648+ -->\n<g id=\"edge8\" class=\"edge\">\n<title>140535728314672&#45;&gt;140535728317648+</title>\n<path fill=\"none\" stroke=\"black\" d=\"M600.62,-64.02C610.5,-65.5 619.9,-66.9 628.3,-68.16\"/>\n<polygon fill=\"black\" stroke=\"black\" points=\"627.95,-71.65 638.36,-69.66 628.99,-64.72 627.95,-71.65\"/>\n</g>\n<!-- 140535728314672* -->\n<g id=\"node7\" class=\"node\">\n<title>140535728314672*</title>\n<ellipse fill=\"none\" stroke=\"black\" cx=\"300\" cy=\"-46.5\" rx=\"27\" ry=\"18\"/>\n<text text-anchor=\"middle\" x=\"300\" y=\"-42.8\" font-family=\"Times,serif\" font-size=\"14.00\">*</text>\n</g>\n<!-- 140535728314672*&#45;&gt;140535728314672 -->\n<g id=\"edge3\" class=\"edge\">\n<title>140535728314672*&#45;&gt;140535728314672</title>\n<path fill=\"none\" stroke=\"black\" d=\"M327.25,-46.5C335.09,-46.5 344.27,-46.5 354.17,-46.5\"/>\n<polygon fill=\"black\" stroke=\"black\" points=\"354.28,-50 364.28,-46.5 354.28,-43 354.28,-50\"/>\n</g>\n<!-- 140535728647488 -->\n<g id=\"node8\" class=\"node\">\n<title>140535728647488</title>\n<polygon fill=\"none\" stroke=\"black\" points=\"0,-56.5 0,-92.5 237,-92.5 237,-56.5 0,-56.5\"/>\n<text text-anchor=\"middle\" x=\"13\" y=\"-70.8\" font-family=\"Times,serif\" font-size=\"14.00\">b</text>\n<polyline fill=\"none\" stroke=\"black\" points=\"26,-56.5 26,-92.5 \"/>\n<text text-anchor=\"middle\" x=\"79.5\" y=\"-70.8\" font-family=\"Times,serif\" font-size=\"14.00\">data &#45;3.0000</text>\n<polyline fill=\"none\" stroke=\"black\" points=\"133,-56.5 133,-92.5 \"/>\n<text text-anchor=\"middle\" x=\"185\" y=\"-70.8\" font-family=\"Times,serif\" font-size=\"14.00\">grad 0.0000</text>\n</g>\n<!-- 140535728647488&#45;&gt;140535728314672* -->\n<g id=\"edge6\" class=\"edge\">\n<title>140535728647488&#45;&gt;140535728314672*</title>\n<path fill=\"none\" stroke=\"black\" d=\"M234.96,-56.49C245.12,-54.91 254.8,-53.4 263.41,-52.05\"/>\n<polygon fill=\"black\" stroke=\"black\" points=\"264.02,-55.5 273.36,-50.5 262.94,-48.58 264.02,-55.5\"/>\n</g>\n<!-- 140535728314816 -->\n<g id=\"node9\" class=\"node\">\n<title>140535728314816</title>\n<polygon fill=\"none\" stroke=\"black\" points=\"728,-0.5 728,-36.5 961,-36.5 961,-0.5 728,-0.5\"/>\n<text text-anchor=\"middle\" x=\"739\" y=\"-14.8\" font-family=\"Times,serif\" font-size=\"14.00\">f</text>\n<polyline fill=\"none\" stroke=\"black\" points=\"750,-0.5 750,-36.5 \"/>\n<text text-anchor=\"middle\" x=\"803.5\" y=\"-14.8\" font-family=\"Times,serif\" font-size=\"14.00\">data &#45;2.0000</text>\n<polyline fill=\"none\" stroke=\"black\" points=\"857,-0.5 857,-36.5 \"/>\n<text text-anchor=\"middle\" x=\"909\" y=\"-14.8\" font-family=\"Times,serif\" font-size=\"14.00\">grad 0.0000</text>\n</g>\n<!-- 140535728314816&#45;&gt;140535728312320* -->\n<g id=\"edge5\" class=\"edge\">\n<title>140535728314816&#45;&gt;140535728312320*</title>\n<path fill=\"none\" stroke=\"black\" d=\"M961.42,-36.13C970.75,-37.55 979.64,-38.9 987.61,-40.12\"/>\n<polygon fill=\"black\" stroke=\"black\" points=\"987.11,-43.58 997.52,-41.62 988.16,-36.66 987.11,-43.58\"/>\n</g>\n<!-- 140535728650224 -->\n<g id=\"node10\" class=\"node\">\n<title>140535728650224</title>\n<polygon fill=\"none\" stroke=\"black\" points=\"3,-1.5 3,-37.5 234,-37.5 234,-1.5 3,-1.5\"/>\n<text text-anchor=\"middle\" x=\"15.5\" y=\"-15.8\" font-family=\"Times,serif\" font-size=\"14.00\">a</text>\n<polyline fill=\"none\" stroke=\"black\" points=\"28,-1.5 28,-37.5 \"/>\n<text text-anchor=\"middle\" x=\"79\" y=\"-15.8\" font-family=\"Times,serif\" font-size=\"14.00\">data 2.0000</text>\n<polyline fill=\"none\" stroke=\"black\" points=\"130,-1.5 130,-37.5 \"/>\n<text text-anchor=\"middle\" x=\"182\" y=\"-15.8\" font-family=\"Times,serif\" font-size=\"14.00\">grad 0.0000</text>\n</g>\n<!-- 140535728650224&#45;&gt;140535728314672* -->\n<g id=\"edge7\" class=\"edge\">\n<title>140535728650224&#45;&gt;140535728314672*</title>\n<path fill=\"none\" stroke=\"black\" d=\"M234.2,-36.75C244.55,-38.31 254.43,-39.8 263.21,-41.12\"/>\n<polygon fill=\"black\" stroke=\"black\" points=\"262.92,-44.61 273.33,-42.64 263.96,-37.69 262.92,-44.61\"/>\n</g>\n</g>\n</svg>\n",
      "text/plain": [
       "<graphviz.graphs.Digraph at 0x7fd1063412d0>"
      ]
     },
     "execution_count": 25,
     "metadata": {},
     "output_type": "execute_result"
    }
   ],
   "source": [
    "draw_dot(L)"
   ]
  },
  {
   "cell_type": "markdown",
   "metadata": {},
   "source": [
    "Deriving derivatives:<br>\n",
    "dd / dc = 1.0\n",
    ",dd/ de = 1.0<br>\n",
    "d = c + e<br>\n",
    "Want:<br>\n",
    "dL / dc = (dL / dd) * (dd / dc) <br>\n",
    "\n",
    "Know: <br>\n",
    "dL / dd <br>\n",
    "dd / dc"
   ]
  },
  {
   "cell_type": "code",
   "execution_count": 26,
   "metadata": {},
   "outputs": [],
   "source": [
    "L.grad = 1.0\n",
    "d.grad = -2.0\n",
    "f.grad = 4.0\n",
    "c.grad = -2.0\n",
    "e.grad = -2.0"
   ]
  },
  {
   "cell_type": "markdown",
   "metadata": {},
   "source": [
    "dL / de = -2.0<br>\n",
    "\n",
    "I want : <br>\n",
    "dL/da = (dL / de) * (de/da)<br>\n",
    "\n",
    "e = a * b <br>\n",
    "de / da ? b\n"
   ]
  },
  {
   "cell_type": "code",
   "execution_count": 27,
   "metadata": {},
   "outputs": [],
   "source": [
    "a.grad = (-2.0*-3.0)\n",
    "b.grad = -2.0 * 2.0"
   ]
  },
  {
   "cell_type": "markdown",
   "metadata": {},
   "source": [
    "Inline gradient checking"
   ]
  },
  {
   "cell_type": "code",
   "execution_count": 28,
   "metadata": {},
   "outputs": [
    {
     "name": "stdout",
     "output_type": "stream",
     "text": [
      "derivative =  -4.000000000008441\n"
     ]
    }
   ],
   "source": [
    "def lol():\n",
    "    a = Value(2.0,label = 'a')\n",
    "    b = Value(-3.0,label = 'b')\n",
    "    c = Value(10.0,label='c')\n",
    "    e = a*b; e.label = 'e'\n",
    "    d = e + c ; d.label = 'd'\n",
    "    f = Value(-2.0,label='f')\n",
    "    L = d*f; L.label='L'\n",
    "    L1 = L.data\n",
    "    h = 0.0001\n",
    "\n",
    "    a = Value(2.0,label = 'a')\n",
    "    b = Value(-3.0+h,label = 'b')\n",
    "    c = Value(10.0,label='c')\n",
    "    e = a*b; e.label = 'e'\n",
    "    d = e + c ; d.label = 'd'\n",
    "    f = Value(-2.0,label='f')\n",
    "    L = d*f; L.label='L'\n",
    "    L2 = L.data\n",
    "\n",
    "    print('derivative = ', (L2-L1)/h)\n",
    "lol()"
   ]
  },
  {
   "cell_type": "markdown",
   "metadata": {},
   "source": [
    "Preview of a single step of optimization"
   ]
  },
  {
   "cell_type": "markdown",
   "metadata": {},
   "source": [
    "We nudge L in a positive direction (less negative) "
   ]
  },
  {
   "cell_type": "code",
   "execution_count": 29,
   "metadata": {},
   "outputs": [
    {
     "name": "stdout",
     "output_type": "stream",
     "text": [
      "-7.286496\n"
     ]
    }
   ],
   "source": [
    "a.data += 0.01 * a.grad\n",
    "b.data += 0.01 * b.grad\n",
    "c.data += 0.01 * c.grad\n",
    "f.data += 0.01 * f.grad\n",
    "\n",
    "e = a*b\n",
    "d = e+c\n",
    "L = d*f\n",
    "print(L.data) "
   ]
  },
  {
   "cell_type": "markdown",
   "metadata": {},
   "source": [
    "Squashing function TanH."
   ]
  },
  {
   "cell_type": "code",
   "execution_count": 30,
   "metadata": {},
   "outputs": [
    {
     "data": {
      "image/png": "[encoded data removed]",
      "text/plain": [
       "<Figure size 640x480 with 1 Axes>"
      ]
     },
     "metadata": {},
     "output_type": "display_data"
    }
   ],
   "source": [
    "plt.plot(np.arange(-5,5,0.2),np.tanh(np.arange(-5,5,0.2)));plt.grid();plt.title('Tanh Function');"
   ]
  },
  {
   "cell_type": "markdown",
   "metadata": {},
   "source": [
    "Back propagating through tiny neural network example"
   ]
  },
  {
   "cell_type": "code",
   "execution_count": 89,
   "metadata": {},
   "outputs": [],
   "source": [
    "#inputs of nn\n",
    "x1 = Value(2.0,label='x1')\n",
    "x2 = Value(0.0,label='x2')\n",
    "#weights of nn\n",
    "w1 = Value(-3.0,label='w1')\n",
    "w2 = Value(1.0,label='w2')\n",
    "#bias of nn\n",
    "b = Value(6.8813735830195432,label='b')\n",
    "\n",
    "x1w1 = x1*w1; x1w1.label = 'x1*w1'\n",
    "x2w2 = x2*w2; x2w2.label = 'x2*w2'\n",
    "x1w1x2w2 = x1w1+x2w2; x1w1x2w2.label='x1w1+x2w2'\n",
    "n = x1w1x2w2 + b ; n.label='n'\n",
    "# we have to implement tanh in Value class\n",
    "o = n.tanh(); o.label ='o'"
   ]
  },
  {
   "cell_type": "code",
   "execution_count": 92,
   "metadata": {},
   "outputs": [
    {
     "data": {
      "image/svg+xml": "<?xml version=\"1.0\" encoding=\"UTF-8\" standalone=\"no\"?>\n<!DOCTYPE svg PUBLIC \"-//W3C//DTD SVG 1.1//EN\"\n \"http://www.w3.org/Graphics/SVG/1.1/DTD/svg11.dtd\">\n<!-- Generated by graphviz version 2.50.0 (0)\n -->\n<!-- Pages: 1 -->\n<svg width=\"1823pt\" height=\"210pt\"\n viewBox=\"0.00 0.00 1822.69 210.00\" xmlns=\"http://www.w3.org/2000/svg\" xmlns:xlink=\"http://www.w3.org/1999/xlink\">\n<g id=\"graph0\" class=\"graph\" transform=\"scale(1 1) rotate(0) translate(4 206)\">\n<polygon fill=\"white\" stroke=\"transparent\" points=\"-4,4 -4,-206 1818.69,-206 1818.69,4 -4,4\"/>\n<!-- 140535725928560 -->\n<g id=\"node1\" class=\"node\">\n<title>140535725928560</title>\n<polygon fill=\"none\" stroke=\"black\" points=\"774,-82.5 774,-118.5 1090,-118.5 1090,-82.5 774,-82.5\"/>\n<text text-anchor=\"middle\" x=\"826.5\" y=\"-96.8\" font-family=\"Times,serif\" font-size=\"14.00\">x1w1+x2w2</text>\n<polyline fill=\"none\" stroke=\"black\" points=\"879,-82.5 879,-118.5 \"/>\n<text text-anchor=\"middle\" x=\"932.5\" y=\"-96.8\" font-family=\"Times,serif\" font-size=\"14.00\">data &#45;6.0000</text>\n<polyline fill=\"none\" stroke=\"black\" points=\"986,-82.5 986,-118.5 \"/>\n<text text-anchor=\"middle\" x=\"1038\" y=\"-96.8\" font-family=\"Times,serif\" font-size=\"14.00\">grad 0.5000</text>\n</g>\n<!-- 140535725928320+ -->\n<g id=\"node13\" class=\"node\">\n<title>140535725928320+</title>\n<ellipse fill=\"none\" stroke=\"black\" cx=\"1153\" cy=\"-127.5\" rx=\"27\" ry=\"18\"/>\n<text text-anchor=\"middle\" x=\"1153\" y=\"-123.8\" font-family=\"Times,serif\" font-size=\"14.00\">+</text>\n</g>\n<!-- 140535725928560&#45;&gt;140535725928320+ -->\n<g id=\"edge13\" class=\"edge\">\n<title>140535725928560&#45;&gt;140535725928320+</title>\n<path fill=\"none\" stroke=\"black\" d=\"M1079.08,-118.51C1092.49,-120.16 1105.08,-121.72 1115.9,-123.05\"/>\n<polygon fill=\"black\" stroke=\"black\" points=\"1115.74,-126.56 1126.09,-124.31 1116.6,-119.61 1115.74,-126.56\"/>\n</g>\n<!-- 140535725928560+ -->\n<g id=\"node2\" class=\"node\">\n<title>140535725928560+</title>\n<ellipse fill=\"none\" stroke=\"black\" cx=\"711\" cy=\"-100.5\" rx=\"27\" ry=\"18\"/>\n<text text-anchor=\"middle\" x=\"711\" y=\"-96.8\" font-family=\"Times,serif\" font-size=\"14.00\">+</text>\n</g>\n<!-- 140535725928560+&#45;&gt;140535725928560 -->\n<g id=\"edge1\" class=\"edge\">\n<title>140535725928560+&#45;&gt;140535725928560</title>\n<path fill=\"none\" stroke=\"black\" d=\"M738.42,-100.5C745.76,-100.5 754.32,-100.5 763.66,-100.5\"/>\n<polygon fill=\"black\" stroke=\"black\" points=\"763.67,-104 773.67,-100.5 763.67,-97 763.67,-104\"/>\n</g>\n<!-- 140535725924480 -->\n<g id=\"node3\" class=\"node\">\n<title>140535725924480</title>\n<polygon fill=\"none\" stroke=\"black\" points=\"375,-110.5 375,-146.5 648,-146.5 648,-110.5 375,-110.5\"/>\n<text text-anchor=\"middle\" x=\"406\" y=\"-124.8\" font-family=\"Times,serif\" font-size=\"14.00\">x1*w1</text>\n<polyline fill=\"none\" stroke=\"black\" points=\"437,-110.5 437,-146.5 \"/>\n<text text-anchor=\"middle\" x=\"490.5\" y=\"-124.8\" font-family=\"Times,serif\" font-size=\"14.00\">data &#45;6.0000</text>\n<polyline fill=\"none\" stroke=\"black\" points=\"544,-110.5 544,-146.5 \"/>\n<text text-anchor=\"middle\" x=\"596\" y=\"-124.8\" font-family=\"Times,serif\" font-size=\"14.00\">grad 0.5000</text>\n</g>\n<!-- 140535725924480&#45;&gt;140535725928560+ -->\n<g id=\"edge6\" class=\"edge\">\n<title>140535725924480&#45;&gt;140535725928560+</title>\n<path fill=\"none\" stroke=\"black\" d=\"M639.53,-110.49C652.09,-108.71 663.99,-107.02 674.3,-105.56\"/>\n<polygon fill=\"black\" stroke=\"black\" points=\"675.03,-108.99 684.44,-104.12 674.05,-102.06 675.03,-108.99\"/>\n</g>\n<!-- 140535725924480* -->\n<g id=\"node4\" class=\"node\">\n<title>140535725924480*</title>\n<ellipse fill=\"none\" stroke=\"black\" cx=\"312\" cy=\"-128.5\" rx=\"27\" ry=\"18\"/>\n<text text-anchor=\"middle\" x=\"312\" y=\"-124.8\" font-family=\"Times,serif\" font-size=\"14.00\">*</text>\n</g>\n<!-- 140535725924480*&#45;&gt;140535725924480 -->\n<g id=\"edge2\" class=\"edge\">\n<title>140535725924480*&#45;&gt;140535725924480</title>\n<path fill=\"none\" stroke=\"black\" d=\"M339.23,-128.5C346.7,-128.5 355.41,-128.5 364.87,-128.5\"/>\n<polygon fill=\"black\" stroke=\"black\" points=\"364.98,-132 374.98,-128.5 364.98,-125 364.98,-132\"/>\n</g>\n<!-- 140535725602416 -->\n<g id=\"node5\" class=\"node\">\n<title>140535725602416</title>\n<polygon fill=\"none\" stroke=\"black\" points=\"2.5,-55.5 2.5,-91.5 246.5,-91.5 246.5,-55.5 2.5,-55.5\"/>\n<text text-anchor=\"middle\" x=\"21.5\" y=\"-69.8\" font-family=\"Times,serif\" font-size=\"14.00\">w2</text>\n<polyline fill=\"none\" stroke=\"black\" points=\"40.5,-55.5 40.5,-91.5 \"/>\n<text text-anchor=\"middle\" x=\"91.5\" y=\"-69.8\" font-family=\"Times,serif\" font-size=\"14.00\">data 1.0000</text>\n<polyline fill=\"none\" stroke=\"black\" points=\"142.5,-55.5 142.5,-91.5 \"/>\n<text text-anchor=\"middle\" x=\"194.5\" y=\"-69.8\" font-family=\"Times,serif\" font-size=\"14.00\">grad 0.0000</text>\n</g>\n<!-- 140535725928752* -->\n<g id=\"node10\" class=\"node\">\n<title>140535725928752*</title>\n<ellipse fill=\"none\" stroke=\"black\" cx=\"312\" cy=\"-73.5\" rx=\"27\" ry=\"18\"/>\n<text text-anchor=\"middle\" x=\"312\" y=\"-69.8\" font-family=\"Times,serif\" font-size=\"14.00\">*</text>\n</g>\n<!-- 140535725602416&#45;&gt;140535725928752* -->\n<g id=\"edge11\" class=\"edge\">\n<title>140535725602416&#45;&gt;140535725928752*</title>\n<path fill=\"none\" stroke=\"black\" d=\"M246.64,-73.5C256.7,-73.5 266.26,-73.5 274.79,-73.5\"/>\n<polygon fill=\"black\" stroke=\"black\" points=\"275,-77 285,-73.5 275,-70 275,-77\"/>\n</g>\n<!-- 140535725591712 -->\n<g id=\"node6\" class=\"node\">\n<title>140535725591712</title>\n<polygon fill=\"none\" stroke=\"black\" points=\"2.5,-165.5 2.5,-201.5 246.5,-201.5 246.5,-165.5 2.5,-165.5\"/>\n<text text-anchor=\"middle\" x=\"19.5\" y=\"-179.8\" font-family=\"Times,serif\" font-size=\"14.00\">x1</text>\n<polyline fill=\"none\" stroke=\"black\" points=\"36.5,-165.5 36.5,-201.5 \"/>\n<text text-anchor=\"middle\" x=\"87.5\" y=\"-179.8\" font-family=\"Times,serif\" font-size=\"14.00\">data 2.0000</text>\n<polyline fill=\"none\" stroke=\"black\" points=\"138.5,-165.5 138.5,-201.5 \"/>\n<text text-anchor=\"middle\" x=\"192.5\" y=\"-179.8\" font-family=\"Times,serif\" font-size=\"14.00\">grad &#45;1.5000</text>\n</g>\n<!-- 140535725591712&#45;&gt;140535725924480* -->\n<g id=\"edge12\" class=\"edge\">\n<title>140535725591712&#45;&gt;140535725924480*</title>\n<path fill=\"none\" stroke=\"black\" d=\"M218.13,-165.46C228.63,-162.77 239.1,-159.78 249,-156.5 259.71,-152.96 271.05,-148.16 281.07,-143.54\"/>\n<polygon fill=\"black\" stroke=\"black\" points=\"282.67,-146.66 290.2,-139.21 279.67,-140.33 282.67,-146.66\"/>\n</g>\n<!-- 140535725923520 -->\n<g id=\"node7\" class=\"node\">\n<title>140535725923520</title>\n<polygon fill=\"none\" stroke=\"black\" points=\"1583.69,-109.5 1583.69,-145.5 1814.69,-145.5 1814.69,-109.5 1583.69,-109.5\"/>\n<text text-anchor=\"middle\" x=\"1596.19\" y=\"-123.8\" font-family=\"Times,serif\" font-size=\"14.00\">o</text>\n<polyline fill=\"none\" stroke=\"black\" points=\"1608.69,-109.5 1608.69,-145.5 \"/>\n<text text-anchor=\"middle\" x=\"1659.69\" y=\"-123.8\" font-family=\"Times,serif\" font-size=\"14.00\">data 0.7071</text>\n<polyline fill=\"none\" stroke=\"black\" points=\"1710.69,-109.5 1710.69,-145.5 \"/>\n<text text-anchor=\"middle\" x=\"1762.69\" y=\"-123.8\" font-family=\"Times,serif\" font-size=\"14.00\">grad 1.0000</text>\n</g>\n<!-- 140535725923520tanh -->\n<g id=\"node8\" class=\"node\">\n<title>140535725923520tanh</title>\n<ellipse fill=\"none\" stroke=\"black\" cx=\"1515.85\" cy=\"-127.5\" rx=\"31.7\" ry=\"18\"/>\n<text text-anchor=\"middle\" x=\"1515.85\" y=\"-123.8\" font-family=\"Times,serif\" font-size=\"14.00\">tanh</text>\n</g>\n<!-- 140535725923520tanh&#45;&gt;140535725923520 -->\n<g id=\"edge3\" class=\"edge\">\n<title>140535725923520tanh&#45;&gt;140535725923520</title>\n<path fill=\"none\" stroke=\"black\" d=\"M1548.02,-127.5C1555.61,-127.5 1564.19,-127.5 1573.31,-127.5\"/>\n<polygon fill=\"black\" stroke=\"black\" points=\"1573.4,-131 1583.4,-127.5 1573.4,-124 1573.4,-131\"/>\n</g>\n<!-- 140535725928752 -->\n<g id=\"node9\" class=\"node\">\n<title>140535725928752</title>\n<polygon fill=\"none\" stroke=\"black\" points=\"377.5,-55.5 377.5,-91.5 645.5,-91.5 645.5,-55.5 377.5,-55.5\"/>\n<text text-anchor=\"middle\" x=\"408.5\" y=\"-69.8\" font-family=\"Times,serif\" font-size=\"14.00\">x2*w2</text>\n<polyline fill=\"none\" stroke=\"black\" points=\"439.5,-55.5 439.5,-91.5 \"/>\n<text text-anchor=\"middle\" x=\"490.5\" y=\"-69.8\" font-family=\"Times,serif\" font-size=\"14.00\">data 0.0000</text>\n<polyline fill=\"none\" stroke=\"black\" points=\"541.5,-55.5 541.5,-91.5 \"/>\n<text text-anchor=\"middle\" x=\"593.5\" y=\"-69.8\" font-family=\"Times,serif\" font-size=\"14.00\">grad 0.5000</text>\n</g>\n<!-- 140535725928752&#45;&gt;140535725928560+ -->\n<g id=\"edge14\" class=\"edge\">\n<title>140535725928752&#45;&gt;140535725928560+</title>\n<path fill=\"none\" stroke=\"black\" d=\"M644.24,-91.51C655.12,-93 665.4,-94.4 674.45,-95.64\"/>\n<polygon fill=\"black\" stroke=\"black\" points=\"674.11,-99.13 684.49,-97.01 675.05,-92.19 674.11,-99.13\"/>\n</g>\n<!-- 140535725928752*&#45;&gt;140535725928752 -->\n<g id=\"edge4\" class=\"edge\">\n<title>140535725928752*&#45;&gt;140535725928752</title>\n<path fill=\"none\" stroke=\"black\" d=\"M339.23,-73.5C347.26,-73.5 356.72,-73.5 366.99,-73.5\"/>\n<polygon fill=\"black\" stroke=\"black\" points=\"367.08,-77 377.08,-73.5 367.08,-70 367.08,-77\"/>\n</g>\n<!-- 140535725592912 -->\n<g id=\"node11\" class=\"node\">\n<title>140535725592912</title>\n<polygon fill=\"none\" stroke=\"black\" points=\"816,-137.5 816,-173.5 1048,-173.5 1048,-137.5 816,-137.5\"/>\n<text text-anchor=\"middle\" x=\"829\" y=\"-151.8\" font-family=\"Times,serif\" font-size=\"14.00\">b</text>\n<polyline fill=\"none\" stroke=\"black\" points=\"842,-137.5 842,-173.5 \"/>\n<text text-anchor=\"middle\" x=\"893\" y=\"-151.8\" font-family=\"Times,serif\" font-size=\"14.00\">data 6.8814</text>\n<polyline fill=\"none\" stroke=\"black\" points=\"944,-137.5 944,-173.5 \"/>\n<text text-anchor=\"middle\" x=\"996\" y=\"-151.8\" font-family=\"Times,serif\" font-size=\"14.00\">grad 0.5000</text>\n</g>\n<!-- 140535725592912&#45;&gt;140535725928320+ -->\n<g id=\"edge8\" class=\"edge\">\n<title>140535725592912&#45;&gt;140535725928320+</title>\n<path fill=\"none\" stroke=\"black\" d=\"M1048.27,-140.76C1073.02,-137.6 1097.38,-134.48 1116.27,-132.07\"/>\n<polygon fill=\"black\" stroke=\"black\" points=\"1116.96,-135.51 1126.44,-130.77 1116.07,-128.56 1116.96,-135.51\"/>\n</g>\n<!-- 140535725928320 -->\n<g id=\"node12\" class=\"node\">\n<title>140535725928320</title>\n<polygon fill=\"none\" stroke=\"black\" points=\"1216,-109.5 1216,-145.5 1448,-145.5 1448,-109.5 1216,-109.5\"/>\n<text text-anchor=\"middle\" x=\"1229\" y=\"-123.8\" font-family=\"Times,serif\" font-size=\"14.00\">n</text>\n<polyline fill=\"none\" stroke=\"black\" points=\"1242,-109.5 1242,-145.5 \"/>\n<text text-anchor=\"middle\" x=\"1293\" y=\"-123.8\" font-family=\"Times,serif\" font-size=\"14.00\">data 0.8814</text>\n<polyline fill=\"none\" stroke=\"black\" points=\"1344,-109.5 1344,-145.5 \"/>\n<text text-anchor=\"middle\" x=\"1396\" y=\"-123.8\" font-family=\"Times,serif\" font-size=\"14.00\">grad 0.5000</text>\n</g>\n<!-- 140535725928320&#45;&gt;140535725923520tanh -->\n<g id=\"edge7\" class=\"edge\">\n<title>140535725928320&#45;&gt;140535725923520tanh</title>\n<path fill=\"none\" stroke=\"black\" d=\"M1448.17,-127.5C1457.08,-127.5 1465.66,-127.5 1473.53,-127.5\"/>\n<polygon fill=\"black\" stroke=\"black\" points=\"1473.78,-131 1483.78,-127.5 1473.78,-124 1473.78,-131\"/>\n</g>\n<!-- 140535725928320+&#45;&gt;140535725928320 -->\n<g id=\"edge5\" class=\"edge\">\n<title>140535725928320+&#45;&gt;140535725928320</title>\n<path fill=\"none\" stroke=\"black\" d=\"M1180.12,-127.5C1187.53,-127.5 1196.14,-127.5 1205.4,-127.5\"/>\n<polygon fill=\"black\" stroke=\"black\" points=\"1205.69,-131 1215.69,-127.5 1205.69,-124 1205.69,-131\"/>\n</g>\n<!-- 140535725588880 -->\n<g id=\"node14\" class=\"node\">\n<title>140535725588880</title>\n<polygon fill=\"none\" stroke=\"black\" points=\"4.5,-0.5 4.5,-36.5 244.5,-36.5 244.5,-0.5 4.5,-0.5\"/>\n<text text-anchor=\"middle\" x=\"21.5\" y=\"-14.8\" font-family=\"Times,serif\" font-size=\"14.00\">x2</text>\n<polyline fill=\"none\" stroke=\"black\" points=\"38.5,-0.5 38.5,-36.5 \"/>\n<text text-anchor=\"middle\" x=\"89.5\" y=\"-14.8\" font-family=\"Times,serif\" font-size=\"14.00\">data 0.0000</text>\n<polyline fill=\"none\" stroke=\"black\" points=\"140.5,-0.5 140.5,-36.5 \"/>\n<text text-anchor=\"middle\" x=\"192.5\" y=\"-14.8\" font-family=\"Times,serif\" font-size=\"14.00\">grad 0.5000</text>\n</g>\n<!-- 140535725588880&#45;&gt;140535725928752* -->\n<g id=\"edge9\" class=\"edge\">\n<title>140535725588880&#45;&gt;140535725928752*</title>\n<path fill=\"none\" stroke=\"black\" d=\"M214.42,-36.55C226.15,-39.54 237.93,-42.87 249,-46.5 259.46,-49.93 270.57,-54.47 280.46,-58.84\"/>\n<polygon fill=\"black\" stroke=\"black\" points=\"279.31,-62.17 289.87,-63.12 282.21,-55.79 279.31,-62.17\"/>\n</g>\n<!-- 140535725604336 -->\n<g id=\"node15\" class=\"node\">\n<title>140535725604336</title>\n<polygon fill=\"none\" stroke=\"black\" points=\"0,-110.5 0,-146.5 249,-146.5 249,-110.5 0,-110.5\"/>\n<text text-anchor=\"middle\" x=\"19\" y=\"-124.8\" font-family=\"Times,serif\" font-size=\"14.00\">w1</text>\n<polyline fill=\"none\" stroke=\"black\" points=\"38,-110.5 38,-146.5 \"/>\n<text text-anchor=\"middle\" x=\"91.5\" y=\"-124.8\" font-family=\"Times,serif\" font-size=\"14.00\">data &#45;3.0000</text>\n<polyline fill=\"none\" stroke=\"black\" points=\"145,-110.5 145,-146.5 \"/>\n<text text-anchor=\"middle\" x=\"197\" y=\"-124.8\" font-family=\"Times,serif\" font-size=\"14.00\">grad 1.0000</text>\n</g>\n<!-- 140535725604336&#45;&gt;140535725924480* -->\n<g id=\"edge10\" class=\"edge\">\n<title>140535725604336&#45;&gt;140535725924480*</title>\n<path fill=\"none\" stroke=\"black\" d=\"M249.23,-128.5C258.37,-128.5 267.05,-128.5 274.87,-128.5\"/>\n<polygon fill=\"black\" stroke=\"black\" points=\"274.95,-132 284.95,-128.5 274.95,-125 274.95,-132\"/>\n</g>\n</g>\n</svg>\n",
      "text/plain": [
       "<graphviz.graphs.Digraph at 0x7fd10600b100>"
      ]
     },
     "execution_count": 92,
     "metadata": {},
     "output_type": "execute_result"
    }
   ],
   "source": [
    "draw_dot(o)"
   ]
  },
  {
   "cell_type": "markdown",
   "metadata": {},
   "source": [
    "Differentiating on tanh:<br>\n",
    "differentiate : do/dn = diff(tanh(o)) <br>\n",
    "diff(tanh(o)) = 1 - tanh(o)\\**2\n",
    "= 1 - o**2"
   ]
  },
  {
   "cell_type": "code",
   "execution_count": 44,
   "metadata": {},
   "outputs": [],
   "source": [
    "n.grad = 0.5"
   ]
  },
  {
   "cell_type": "code",
   "execution_count": 43,
   "metadata": {},
   "outputs": [
    {
     "data": {
      "text/plain": [
       "0.5000000028284273"
      ]
     },
     "execution_count": 43,
     "metadata": {},
     "output_type": "execute_result"
    }
   ],
   "source": [
    "1-o.data**2"
   ]
  },
  {
   "cell_type": "markdown",
   "metadata": {},
   "source": [
    "Diff on plus sign just distribute the grad from prev node"
   ]
  },
  {
   "cell_type": "code",
   "execution_count": 48,
   "metadata": {},
   "outputs": [],
   "source": [
    "x1w1x2w2.grad = b.grad = x1w1.grad = x2w2.grad = 0.5"
   ]
  },
  {
   "cell_type": "markdown",
   "metadata": {},
   "source": [
    "Diff on multiply sign gives the other term data times the grad of node it's coming from"
   ]
  },
  {
   "cell_type": "code",
   "execution_count": 50,
   "metadata": {},
   "outputs": [],
   "source": [
    "x1.grad = w1.data * x1w1.grad\n",
    "w1.grad = x1.data * x1w1.grad\n",
    "x2.grad = w2.data *x2w2.grad\n",
    "w2.grad = x2.data *x2w2.grad\n"
   ]
  },
  {
   "cell_type": "markdown",
   "metadata": {},
   "source": [
    "Let's implement automatic backward propagation"
   ]
  },
  {
   "cell_type": "code",
   "execution_count": null,
   "metadata": {},
   "outputs": [],
   "source": [
    "o.grad = 1.0\n",
    "o._backward()\n",
    "n._backward()\n",
    "x1w1x2w2._backward()\n",
    "x1w1._backward()\n",
    "x2w2._backward()\n"
   ]
  },
  {
   "cell_type": "markdown",
   "metadata": {},
   "source": [
    "We want to do back prop without calling backward on each node, so we use topological order algorithm to compute dependencies on the graph and compute all back prop on one step"
   ]
  },
  {
   "cell_type": "code",
   "execution_count": 81,
   "metadata": {},
   "outputs": [
    {
     "data": {
      "text/plain": [
       "[Value(data=6.881373583019543),\n",
       " Value(data=-3.0),\n",
       " Value(data=2.0),\n",
       " Value(data=-6.0),\n",
       " Value(data=0.0),\n",
       " Value(data=1.0),\n",
       " Value(data=0.0),\n",
       " Value(data=-6.0),\n",
       " Value(data=0.8813735830195428),\n",
       " Value(data=0.7071067791865474)]"
      ]
     },
     "execution_count": 81,
     "metadata": {},
     "output_type": "execute_result"
    }
   ],
   "source": [
    "topo = []\n",
    "visited = set()\n",
    "def build_topo(v):\n",
    "    if v not in visited:\n",
    "        visited.add(v)\n",
    "        for child in v._prev:\n",
    "            build_topo(child)\n",
    "        \n",
    "        topo.append(v)\n",
    "build_topo(o)\n",
    "topo"
   ]
  },
  {
   "cell_type": "code",
   "execution_count": 85,
   "metadata": {},
   "outputs": [],
   "source": [
    "o.grad = 1.0\n",
    "topo = []\n",
    "visited = set()\n",
    "def build_topo(v):\n",
    "    if v not in visited:\n",
    "        visited.add(v)\n",
    "        for child in v._prev:\n",
    "            build_topo(child)\n",
    "        \n",
    "        topo.append(v)\n",
    "build_topo(o)\n",
    "for node in reversed(topo):\n",
    "    node.backward()"
   ]
  },
  {
   "cell_type": "code",
   "execution_count": 87,
   "metadata": {},
   "outputs": [
    {
     "data": {
      "image/svg+xml": "<?xml version=\"1.0\" encoding=\"UTF-8\" standalone=\"no\"?>\n<!DOCTYPE svg PUBLIC \"-//W3C//DTD SVG 1.1//EN\"\n \"http://www.w3.org/Graphics/SVG/1.1/DTD/svg11.dtd\">\n<!-- Generated by graphviz version 2.50.0 (0)\n -->\n<!-- Pages: 1 -->\n<svg width=\"1823pt\" height=\"210pt\"\n viewBox=\"0.00 0.00 1822.69 210.00\" xmlns=\"http://www.w3.org/2000/svg\" xmlns:xlink=\"http://www.w3.org/1999/xlink\">\n<g id=\"graph0\" class=\"graph\" transform=\"scale(1 1) rotate(0) translate(4 206)\">\n<polygon fill=\"white\" stroke=\"transparent\" points=\"-4,4 -4,-206 1818.69,-206 1818.69,4 -4,4\"/>\n<!-- 140535725597712 -->\n<g id=\"node1\" class=\"node\">\n<title>140535725597712</title>\n<polygon fill=\"none\" stroke=\"black\" points=\"816,-137.5 816,-173.5 1048,-173.5 1048,-137.5 816,-137.5\"/>\n<text text-anchor=\"middle\" x=\"829\" y=\"-151.8\" font-family=\"Times,serif\" font-size=\"14.00\">b</text>\n<polyline fill=\"none\" stroke=\"black\" points=\"842,-137.5 842,-173.5 \"/>\n<text text-anchor=\"middle\" x=\"893\" y=\"-151.8\" font-family=\"Times,serif\" font-size=\"14.00\">data 6.8814</text>\n<polyline fill=\"none\" stroke=\"black\" points=\"944,-137.5 944,-173.5 \"/>\n<text text-anchor=\"middle\" x=\"996\" y=\"-151.8\" font-family=\"Times,serif\" font-size=\"14.00\">grad 0.5000</text>\n</g>\n<!-- 140535725596320+ -->\n<g id=\"node4\" class=\"node\">\n<title>140535725596320+</title>\n<ellipse fill=\"none\" stroke=\"black\" cx=\"1153\" cy=\"-127.5\" rx=\"27\" ry=\"18\"/>\n<text text-anchor=\"middle\" x=\"1153\" y=\"-123.8\" font-family=\"Times,serif\" font-size=\"14.00\">+</text>\n</g>\n<!-- 140535725597712&#45;&gt;140535725596320+ -->\n<g id=\"edge12\" class=\"edge\">\n<title>140535725597712&#45;&gt;140535725596320+</title>\n<path fill=\"none\" stroke=\"black\" d=\"M1048.27,-140.76C1073.02,-137.6 1097.38,-134.48 1116.27,-132.07\"/>\n<polygon fill=\"black\" stroke=\"black\" points=\"1116.96,-135.51 1126.44,-130.77 1116.07,-128.56 1116.96,-135.51\"/>\n</g>\n<!-- 140535725596800 -->\n<g id=\"node2\" class=\"node\">\n<title>140535725596800</title>\n<polygon fill=\"none\" stroke=\"black\" points=\"0,-165.5 0,-201.5 249,-201.5 249,-165.5 0,-165.5\"/>\n<text text-anchor=\"middle\" x=\"19\" y=\"-179.8\" font-family=\"Times,serif\" font-size=\"14.00\">w1</text>\n<polyline fill=\"none\" stroke=\"black\" points=\"38,-165.5 38,-201.5 \"/>\n<text text-anchor=\"middle\" x=\"91.5\" y=\"-179.8\" font-family=\"Times,serif\" font-size=\"14.00\">data &#45;3.0000</text>\n<polyline fill=\"none\" stroke=\"black\" points=\"145,-165.5 145,-201.5 \"/>\n<text text-anchor=\"middle\" x=\"197\" y=\"-179.8\" font-family=\"Times,serif\" font-size=\"14.00\">grad 1.0000</text>\n</g>\n<!-- 140535725594832* -->\n<g id=\"node6\" class=\"node\">\n<title>140535725594832*</title>\n<ellipse fill=\"none\" stroke=\"black\" cx=\"312\" cy=\"-128.5\" rx=\"27\" ry=\"18\"/>\n<text text-anchor=\"middle\" x=\"312\" y=\"-124.8\" font-family=\"Times,serif\" font-size=\"14.00\">*</text>\n</g>\n<!-- 140535725596800&#45;&gt;140535725594832* -->\n<g id=\"edge9\" class=\"edge\">\n<title>140535725596800&#45;&gt;140535725594832*</title>\n<path fill=\"none\" stroke=\"black\" d=\"M218.13,-165.46C228.63,-162.77 239.1,-159.78 249,-156.5 259.71,-152.96 271.05,-148.16 281.07,-143.54\"/>\n<polygon fill=\"black\" stroke=\"black\" points=\"282.67,-146.66 290.2,-139.21 279.67,-140.33 282.67,-146.66\"/>\n</g>\n<!-- 140535725596320 -->\n<g id=\"node3\" class=\"node\">\n<title>140535725596320</title>\n<polygon fill=\"none\" stroke=\"black\" points=\"1216,-109.5 1216,-145.5 1448,-145.5 1448,-109.5 1216,-109.5\"/>\n<text text-anchor=\"middle\" x=\"1229\" y=\"-123.8\" font-family=\"Times,serif\" font-size=\"14.00\">n</text>\n<polyline fill=\"none\" stroke=\"black\" points=\"1242,-109.5 1242,-145.5 \"/>\n<text text-anchor=\"middle\" x=\"1293\" y=\"-123.8\" font-family=\"Times,serif\" font-size=\"14.00\">data 0.8814</text>\n<polyline fill=\"none\" stroke=\"black\" points=\"1344,-109.5 1344,-145.5 \"/>\n<text text-anchor=\"middle\" x=\"1396\" y=\"-123.8\" font-family=\"Times,serif\" font-size=\"14.00\">grad 0.5000</text>\n</g>\n<!-- 140535725919584tanh -->\n<g id=\"node11\" class=\"node\">\n<title>140535725919584tanh</title>\n<ellipse fill=\"none\" stroke=\"black\" cx=\"1515.85\" cy=\"-127.5\" rx=\"31.7\" ry=\"18\"/>\n<text text-anchor=\"middle\" x=\"1515.85\" y=\"-123.8\" font-family=\"Times,serif\" font-size=\"14.00\">tanh</text>\n</g>\n<!-- 140535725596320&#45;&gt;140535725919584tanh -->\n<g id=\"edge6\" class=\"edge\">\n<title>140535725596320&#45;&gt;140535725919584tanh</title>\n<path fill=\"none\" stroke=\"black\" d=\"M1448.17,-127.5C1457.08,-127.5 1465.66,-127.5 1473.53,-127.5\"/>\n<polygon fill=\"black\" stroke=\"black\" points=\"1473.78,-131 1483.78,-127.5 1473.78,-124 1473.78,-131\"/>\n</g>\n<!-- 140535725596320+&#45;&gt;140535725596320 -->\n<g id=\"edge1\" class=\"edge\">\n<title>140535725596320+&#45;&gt;140535725596320</title>\n<path fill=\"none\" stroke=\"black\" d=\"M1180.12,-127.5C1187.53,-127.5 1196.14,-127.5 1205.4,-127.5\"/>\n<polygon fill=\"black\" stroke=\"black\" points=\"1205.69,-131 1215.69,-127.5 1205.69,-124 1205.69,-131\"/>\n</g>\n<!-- 140535725594832 -->\n<g id=\"node5\" class=\"node\">\n<title>140535725594832</title>\n<polygon fill=\"none\" stroke=\"black\" points=\"375,-110.5 375,-146.5 648,-146.5 648,-110.5 375,-110.5\"/>\n<text text-anchor=\"middle\" x=\"406\" y=\"-124.8\" font-family=\"Times,serif\" font-size=\"14.00\">x1*w1</text>\n<polyline fill=\"none\" stroke=\"black\" points=\"437,-110.5 437,-146.5 \"/>\n<text text-anchor=\"middle\" x=\"490.5\" y=\"-124.8\" font-family=\"Times,serif\" font-size=\"14.00\">data &#45;6.0000</text>\n<polyline fill=\"none\" stroke=\"black\" points=\"544,-110.5 544,-146.5 \"/>\n<text text-anchor=\"middle\" x=\"596\" y=\"-124.8\" font-family=\"Times,serif\" font-size=\"14.00\">grad 0.5000</text>\n</g>\n<!-- 140535725595408+ -->\n<g id=\"node9\" class=\"node\">\n<title>140535725595408+</title>\n<ellipse fill=\"none\" stroke=\"black\" cx=\"711\" cy=\"-100.5\" rx=\"27\" ry=\"18\"/>\n<text text-anchor=\"middle\" x=\"711\" y=\"-96.8\" font-family=\"Times,serif\" font-size=\"14.00\">+</text>\n</g>\n<!-- 140535725594832&#45;&gt;140535725595408+ -->\n<g id=\"edge7\" class=\"edge\">\n<title>140535725594832&#45;&gt;140535725595408+</title>\n<path fill=\"none\" stroke=\"black\" d=\"M639.53,-110.49C652.09,-108.71 663.99,-107.02 674.3,-105.56\"/>\n<polygon fill=\"black\" stroke=\"black\" points=\"675.03,-108.99 684.44,-104.12 674.05,-102.06 675.03,-108.99\"/>\n</g>\n<!-- 140535725594832*&#45;&gt;140535725594832 -->\n<g id=\"edge2\" class=\"edge\">\n<title>140535725594832*&#45;&gt;140535725594832</title>\n<path fill=\"none\" stroke=\"black\" d=\"M339.23,-128.5C346.7,-128.5 355.41,-128.5 364.87,-128.5\"/>\n<polygon fill=\"black\" stroke=\"black\" points=\"364.98,-132 374.98,-128.5 364.98,-125 364.98,-132\"/>\n</g>\n<!-- 140535725604048 -->\n<g id=\"node7\" class=\"node\">\n<title>140535725604048</title>\n<polygon fill=\"none\" stroke=\"black\" points=\"2.5,-55.5 2.5,-91.5 246.5,-91.5 246.5,-55.5 2.5,-55.5\"/>\n<text text-anchor=\"middle\" x=\"21.5\" y=\"-69.8\" font-family=\"Times,serif\" font-size=\"14.00\">w2</text>\n<polyline fill=\"none\" stroke=\"black\" points=\"40.5,-55.5 40.5,-91.5 \"/>\n<text text-anchor=\"middle\" x=\"91.5\" y=\"-69.8\" font-family=\"Times,serif\" font-size=\"14.00\">data 1.0000</text>\n<polyline fill=\"none\" stroke=\"black\" points=\"142.5,-55.5 142.5,-91.5 \"/>\n<text text-anchor=\"middle\" x=\"194.5\" y=\"-69.8\" font-family=\"Times,serif\" font-size=\"14.00\">grad 0.0000</text>\n</g>\n<!-- 140535725598048* -->\n<g id=\"node13\" class=\"node\">\n<title>140535725598048*</title>\n<ellipse fill=\"none\" stroke=\"black\" cx=\"312\" cy=\"-73.5\" rx=\"27\" ry=\"18\"/>\n<text text-anchor=\"middle\" x=\"312\" y=\"-69.8\" font-family=\"Times,serif\" font-size=\"14.00\">*</text>\n</g>\n<!-- 140535725604048&#45;&gt;140535725598048* -->\n<g id=\"edge14\" class=\"edge\">\n<title>140535725604048&#45;&gt;140535725598048*</title>\n<path fill=\"none\" stroke=\"black\" d=\"M246.64,-73.5C256.7,-73.5 266.26,-73.5 274.79,-73.5\"/>\n<polygon fill=\"black\" stroke=\"black\" points=\"275,-77 285,-73.5 275,-70 275,-77\"/>\n</g>\n<!-- 140535725595408 -->\n<g id=\"node8\" class=\"node\">\n<title>140535725595408</title>\n<polygon fill=\"none\" stroke=\"black\" points=\"774,-82.5 774,-118.5 1090,-118.5 1090,-82.5 774,-82.5\"/>\n<text text-anchor=\"middle\" x=\"826.5\" y=\"-96.8\" font-family=\"Times,serif\" font-size=\"14.00\">x1w1+x2w2</text>\n<polyline fill=\"none\" stroke=\"black\" points=\"879,-82.5 879,-118.5 \"/>\n<text text-anchor=\"middle\" x=\"932.5\" y=\"-96.8\" font-family=\"Times,serif\" font-size=\"14.00\">data &#45;6.0000</text>\n<polyline fill=\"none\" stroke=\"black\" points=\"986,-82.5 986,-118.5 \"/>\n<text text-anchor=\"middle\" x=\"1038\" y=\"-96.8\" font-family=\"Times,serif\" font-size=\"14.00\">grad 0.5000</text>\n</g>\n<!-- 140535725595408&#45;&gt;140535725596320+ -->\n<g id=\"edge13\" class=\"edge\">\n<title>140535725595408&#45;&gt;140535725596320+</title>\n<path fill=\"none\" stroke=\"black\" d=\"M1079.08,-118.51C1092.49,-120.16 1105.08,-121.72 1115.9,-123.05\"/>\n<polygon fill=\"black\" stroke=\"black\" points=\"1115.74,-126.56 1126.09,-124.31 1116.6,-119.61 1115.74,-126.56\"/>\n</g>\n<!-- 140535725595408+&#45;&gt;140535725595408 -->\n<g id=\"edge3\" class=\"edge\">\n<title>140535725595408+&#45;&gt;140535725595408</title>\n<path fill=\"none\" stroke=\"black\" d=\"M738.42,-100.5C745.76,-100.5 754.32,-100.5 763.66,-100.5\"/>\n<polygon fill=\"black\" stroke=\"black\" points=\"763.67,-104 773.67,-100.5 763.67,-97 763.67,-104\"/>\n</g>\n<!-- 140535725919584 -->\n<g id=\"node10\" class=\"node\">\n<title>140535725919584</title>\n<polygon fill=\"none\" stroke=\"black\" points=\"1583.69,-109.5 1583.69,-145.5 1814.69,-145.5 1814.69,-109.5 1583.69,-109.5\"/>\n<text text-anchor=\"middle\" x=\"1596.19\" y=\"-123.8\" font-family=\"Times,serif\" font-size=\"14.00\">o</text>\n<polyline fill=\"none\" stroke=\"black\" points=\"1608.69,-109.5 1608.69,-145.5 \"/>\n<text text-anchor=\"middle\" x=\"1659.69\" y=\"-123.8\" font-family=\"Times,serif\" font-size=\"14.00\">data 0.7071</text>\n<polyline fill=\"none\" stroke=\"black\" points=\"1710.69,-109.5 1710.69,-145.5 \"/>\n<text text-anchor=\"middle\" x=\"1762.69\" y=\"-123.8\" font-family=\"Times,serif\" font-size=\"14.00\">grad 1.0000</text>\n</g>\n<!-- 140535725919584tanh&#45;&gt;140535725919584 -->\n<g id=\"edge4\" class=\"edge\">\n<title>140535725919584tanh&#45;&gt;140535725919584</title>\n<path fill=\"none\" stroke=\"black\" d=\"M1548.02,-127.5C1555.61,-127.5 1564.19,-127.5 1573.31,-127.5\"/>\n<polygon fill=\"black\" stroke=\"black\" points=\"1573.4,-131 1583.4,-127.5 1573.4,-124 1573.4,-131\"/>\n</g>\n<!-- 140535725598048 -->\n<g id=\"node12\" class=\"node\">\n<title>140535725598048</title>\n<polygon fill=\"none\" stroke=\"black\" points=\"377.5,-55.5 377.5,-91.5 645.5,-91.5 645.5,-55.5 377.5,-55.5\"/>\n<text text-anchor=\"middle\" x=\"408.5\" y=\"-69.8\" font-family=\"Times,serif\" font-size=\"14.00\">x2*w2</text>\n<polyline fill=\"none\" stroke=\"black\" points=\"439.5,-55.5 439.5,-91.5 \"/>\n<text text-anchor=\"middle\" x=\"490.5\" y=\"-69.8\" font-family=\"Times,serif\" font-size=\"14.00\">data 0.0000</text>\n<polyline fill=\"none\" stroke=\"black\" points=\"541.5,-55.5 541.5,-91.5 \"/>\n<text text-anchor=\"middle\" x=\"593.5\" y=\"-69.8\" font-family=\"Times,serif\" font-size=\"14.00\">grad 0.5000</text>\n</g>\n<!-- 140535725598048&#45;&gt;140535725595408+ -->\n<g id=\"edge8\" class=\"edge\">\n<title>140535725598048&#45;&gt;140535725595408+</title>\n<path fill=\"none\" stroke=\"black\" d=\"M644.24,-91.51C655.12,-93 665.4,-94.4 674.45,-95.64\"/>\n<polygon fill=\"black\" stroke=\"black\" points=\"674.11,-99.13 684.49,-97.01 675.05,-92.19 674.11,-99.13\"/>\n</g>\n<!-- 140535725598048*&#45;&gt;140535725598048 -->\n<g id=\"edge5\" class=\"edge\">\n<title>140535725598048*&#45;&gt;140535725598048</title>\n<path fill=\"none\" stroke=\"black\" d=\"M339.23,-73.5C347.26,-73.5 356.72,-73.5 366.99,-73.5\"/>\n<polygon fill=\"black\" stroke=\"black\" points=\"367.08,-77 377.08,-73.5 367.08,-70 367.08,-77\"/>\n</g>\n<!-- 140535725604288 -->\n<g id=\"node14\" class=\"node\">\n<title>140535725604288</title>\n<polygon fill=\"none\" stroke=\"black\" points=\"4.5,-0.5 4.5,-36.5 244.5,-36.5 244.5,-0.5 4.5,-0.5\"/>\n<text text-anchor=\"middle\" x=\"21.5\" y=\"-14.8\" font-family=\"Times,serif\" font-size=\"14.00\">x2</text>\n<polyline fill=\"none\" stroke=\"black\" points=\"38.5,-0.5 38.5,-36.5 \"/>\n<text text-anchor=\"middle\" x=\"89.5\" y=\"-14.8\" font-family=\"Times,serif\" font-size=\"14.00\">data 0.0000</text>\n<polyline fill=\"none\" stroke=\"black\" points=\"140.5,-0.5 140.5,-36.5 \"/>\n<text text-anchor=\"middle\" x=\"192.5\" y=\"-14.8\" font-family=\"Times,serif\" font-size=\"14.00\">grad 0.5000</text>\n</g>\n<!-- 140535725604288&#45;&gt;140535725598048* -->\n<g id=\"edge10\" class=\"edge\">\n<title>140535725604288&#45;&gt;140535725598048*</title>\n<path fill=\"none\" stroke=\"black\" d=\"M214.42,-36.55C226.15,-39.54 237.93,-42.87 249,-46.5 259.46,-49.93 270.57,-54.47 280.46,-58.84\"/>\n<polygon fill=\"black\" stroke=\"black\" points=\"279.31,-62.17 289.87,-63.12 282.21,-55.79 279.31,-62.17\"/>\n</g>\n<!-- 140535725599728 -->\n<g id=\"node15\" class=\"node\">\n<title>140535725599728</title>\n<polygon fill=\"none\" stroke=\"black\" points=\"2.5,-110.5 2.5,-146.5 246.5,-146.5 246.5,-110.5 2.5,-110.5\"/>\n<text text-anchor=\"middle\" x=\"19.5\" y=\"-124.8\" font-family=\"Times,serif\" font-size=\"14.00\">x1</text>\n<polyline fill=\"none\" stroke=\"black\" points=\"36.5,-110.5 36.5,-146.5 \"/>\n<text text-anchor=\"middle\" x=\"87.5\" y=\"-124.8\" font-family=\"Times,serif\" font-size=\"14.00\">data 2.0000</text>\n<polyline fill=\"none\" stroke=\"black\" points=\"138.5,-110.5 138.5,-146.5 \"/>\n<text text-anchor=\"middle\" x=\"192.5\" y=\"-124.8\" font-family=\"Times,serif\" font-size=\"14.00\">grad &#45;1.5000</text>\n</g>\n<!-- 140535725599728&#45;&gt;140535725594832* -->\n<g id=\"edge11\" class=\"edge\">\n<title>140535725599728&#45;&gt;140535725594832*</title>\n<path fill=\"none\" stroke=\"black\" d=\"M246.64,-128.5C256.7,-128.5 266.26,-128.5 274.79,-128.5\"/>\n<polygon fill=\"black\" stroke=\"black\" points=\"275,-132 285,-128.5 275,-125 275,-132\"/>\n</g>\n</g>\n</svg>\n",
      "text/plain": [
       "<graphviz.graphs.Digraph at 0x7fd106009780>"
      ]
     },
     "execution_count": 87,
     "metadata": {},
     "output_type": "execute_result"
    }
   ],
   "source": [
    "draw_dot(o)"
   ]
  },
  {
   "cell_type": "markdown",
   "metadata": {},
   "source": [
    "We now add this topological algorithm to Value class as backward function"
   ]
  },
  {
   "cell_type": "code",
   "execution_count": 91,
   "metadata": {},
   "outputs": [],
   "source": [
    "o.backward()"
   ]
  },
  {
   "cell_type": "markdown",
   "metadata": {},
   "source": [
    "A bug in the code in the gradient backward functions"
   ]
  },
  {
   "cell_type": "code",
   "execution_count": 96,
   "metadata": {},
   "outputs": [
    {
     "data": {
      "image/svg+xml": "<?xml version=\"1.0\" encoding=\"UTF-8\" standalone=\"no\"?>\n<!DOCTYPE svg PUBLIC \"-//W3C//DTD SVG 1.1//EN\"\n \"http://www.w3.org/Graphics/SVG/1.1/DTD/svg11.dtd\">\n<!-- Generated by graphviz version 2.50.0 (0)\n -->\n<!-- Pages: 1 -->\n<svg width=\"597pt\" height=\"45pt\"\n viewBox=\"0.00 0.00 597.00 45.00\" xmlns=\"http://www.w3.org/2000/svg\" xmlns:xlink=\"http://www.w3.org/1999/xlink\">\n<g id=\"graph0\" class=\"graph\" transform=\"scale(1 1) rotate(0) translate(4 41)\">\n<polygon fill=\"white\" stroke=\"transparent\" points=\"-4,4 -4,-41 593,-41 593,4 -4,4\"/>\n<!-- 140535699096144 -->\n<g id=\"node1\" class=\"node\">\n<title>140535699096144</title>\n<polygon fill=\"none\" stroke=\"black\" points=\"0,-0.5 0,-36.5 231,-36.5 231,-0.5 0,-0.5\"/>\n<text text-anchor=\"middle\" x=\"12.5\" y=\"-14.8\" font-family=\"Times,serif\" font-size=\"14.00\">a</text>\n<polyline fill=\"none\" stroke=\"black\" points=\"25,-0.5 25,-36.5 \"/>\n<text text-anchor=\"middle\" x=\"76\" y=\"-14.8\" font-family=\"Times,serif\" font-size=\"14.00\">data 3.0000</text>\n<polyline fill=\"none\" stroke=\"black\" points=\"127,-0.5 127,-36.5 \"/>\n<text text-anchor=\"middle\" x=\"179\" y=\"-14.8\" font-family=\"Times,serif\" font-size=\"14.00\">grad 2.0000</text>\n</g>\n<!-- 140535699098448+ -->\n<g id=\"node3\" class=\"node\">\n<title>140535699098448+</title>\n<ellipse fill=\"none\" stroke=\"black\" cx=\"294\" cy=\"-18.5\" rx=\"27\" ry=\"18\"/>\n<text text-anchor=\"middle\" x=\"294\" y=\"-14.8\" font-family=\"Times,serif\" font-size=\"14.00\">+</text>\n</g>\n<!-- 140535699096144&#45;&gt;140535699098448+ -->\n<g id=\"edge2\" class=\"edge\">\n<title>140535699096144&#45;&gt;140535699098448+</title>\n<path fill=\"none\" stroke=\"black\" d=\"M231.27,-18.5C240.32,-18.5 248.97,-18.5 256.76,-18.5\"/>\n<polygon fill=\"black\" stroke=\"black\" points=\"256.84,-22 266.84,-18.5 256.84,-15 256.84,-22\"/>\n</g>\n<!-- 140535699098448 -->\n<g id=\"node2\" class=\"node\">\n<title>140535699098448</title>\n<polygon fill=\"none\" stroke=\"black\" points=\"357,-0.5 357,-36.5 589,-36.5 589,-0.5 357,-0.5\"/>\n<text text-anchor=\"middle\" x=\"370\" y=\"-14.8\" font-family=\"Times,serif\" font-size=\"14.00\">b</text>\n<polyline fill=\"none\" stroke=\"black\" points=\"383,-0.5 383,-36.5 \"/>\n<text text-anchor=\"middle\" x=\"434\" y=\"-14.8\" font-family=\"Times,serif\" font-size=\"14.00\">data 6.0000</text>\n<polyline fill=\"none\" stroke=\"black\" points=\"485,-0.5 485,-36.5 \"/>\n<text text-anchor=\"middle\" x=\"537\" y=\"-14.8\" font-family=\"Times,serif\" font-size=\"14.00\">grad 1.0000</text>\n</g>\n<!-- 140535699098448+&#45;&gt;140535699098448 -->\n<g id=\"edge1\" class=\"edge\">\n<title>140535699098448+&#45;&gt;140535699098448</title>\n<path fill=\"none\" stroke=\"black\" d=\"M321.12,-18.5C328.53,-18.5 337.14,-18.5 346.4,-18.5\"/>\n<polygon fill=\"black\" stroke=\"black\" points=\"346.69,-22 356.69,-18.5 346.69,-15 346.69,-22\"/>\n</g>\n</g>\n</svg>\n",
      "text/plain": [
       "<graphviz.graphs.Digraph at 0x7fd1046c4970>"
      ]
     },
     "execution_count": 96,
     "metadata": {},
     "output_type": "execute_result"
    }
   ],
   "source": [
    "a = Value(3.0,label = 'a')\n",
    "b = a + a ; b.label = 'b'\n",
    "b.backward()\n",
    "draw_dot(b)"
   ]
  },
  {
   "cell_type": "markdown",
   "metadata": {},
   "source": [
    "b gradient should be 2.0 because if we differentiate b = a + a should give 1 + 1  = 2.<br> The problem that we don't add the gradient"
   ]
  },
  {
   "cell_type": "markdown",
   "metadata": {},
   "source": [
    "Another example"
   ]
  },
  {
   "cell_type": "code",
   "execution_count": 97,
   "metadata": {},
   "outputs": [
    {
     "data": {
      "image/svg+xml": "<?xml version=\"1.0\" encoding=\"UTF-8\" standalone=\"no\"?>\n<!DOCTYPE svg PUBLIC \"-//W3C//DTD SVG 1.1//EN\"\n \"http://www.w3.org/Graphics/SVG/1.1/DTD/svg11.dtd\">\n<!-- Generated by graphviz version 2.50.0 (0)\n -->\n<!-- Pages: 1 -->\n<svg width=\"970pt\" height=\"100pt\"\n viewBox=\"0.00 0.00 970.00 100.00\" xmlns=\"http://www.w3.org/2000/svg\" xmlns:xlink=\"http://www.w3.org/1999/xlink\">\n<g id=\"graph0\" class=\"graph\" transform=\"scale(1 1) rotate(0) translate(4 96)\">\n<polygon fill=\"white\" stroke=\"transparent\" points=\"-4,4 -4,-96 966,-96 966,4 -4,4\"/>\n<!-- 140535699104304 -->\n<g id=\"node1\" class=\"node\">\n<title>140535699104304</title>\n<polygon fill=\"none\" stroke=\"black\" points=\"2,-55.5 2,-91.5 238,-91.5 238,-55.5 2,-55.5\"/>\n<text text-anchor=\"middle\" x=\"15\" y=\"-69.8\" font-family=\"Times,serif\" font-size=\"14.00\">b</text>\n<polyline fill=\"none\" stroke=\"black\" points=\"28,-55.5 28,-91.5 \"/>\n<text text-anchor=\"middle\" x=\"79\" y=\"-69.8\" font-family=\"Times,serif\" font-size=\"14.00\">data 3.0000</text>\n<polyline fill=\"none\" stroke=\"black\" points=\"130,-55.5 130,-91.5 \"/>\n<text text-anchor=\"middle\" x=\"184\" y=\"-69.8\" font-family=\"Times,serif\" font-size=\"14.00\">grad &#45;8.0000</text>\n</g>\n<!-- 140535699103488* -->\n<g id=\"node5\" class=\"node\">\n<title>140535699103488*</title>\n<ellipse fill=\"none\" stroke=\"black\" cx=\"303\" cy=\"-73.5\" rx=\"27\" ry=\"18\"/>\n<text text-anchor=\"middle\" x=\"303\" y=\"-69.8\" font-family=\"Times,serif\" font-size=\"14.00\">*</text>\n</g>\n<!-- 140535699104304&#45;&gt;140535699103488* -->\n<g id=\"edge5\" class=\"edge\">\n<title>140535699104304&#45;&gt;140535699103488*</title>\n<path fill=\"none\" stroke=\"black\" d=\"M238.19,-73.5C248.03,-73.5 257.41,-73.5 265.8,-73.5\"/>\n<polygon fill=\"black\" stroke=\"black\" points=\"265.87,-77 275.87,-73.5 265.87,-70 265.87,-77\"/>\n</g>\n<!-- 140535699103104+ -->\n<g id=\"node7\" class=\"node\">\n<title>140535699103104+</title>\n<ellipse fill=\"none\" stroke=\"black\" cx=\"303\" cy=\"-18.5\" rx=\"27\" ry=\"18\"/>\n<text text-anchor=\"middle\" x=\"303\" y=\"-14.8\" font-family=\"Times,serif\" font-size=\"14.00\">+</text>\n</g>\n<!-- 140535699104304&#45;&gt;140535699103104+ -->\n<g id=\"edge7\" class=\"edge\">\n<title>140535699104304&#45;&gt;140535699103104+</title>\n<path fill=\"none\" stroke=\"black\" d=\"M209.61,-55.48C219.94,-52.77 230.26,-49.77 240,-46.5 250.69,-42.91 262.03,-38.11 272.05,-33.49\"/>\n<polygon fill=\"black\" stroke=\"black\" points=\"273.65,-36.61 281.19,-29.17 270.65,-30.28 273.65,-36.61\"/>\n</g>\n<!-- 140535699095616 -->\n<g id=\"node2\" class=\"node\">\n<title>140535699095616</title>\n<polygon fill=\"none\" stroke=\"black\" points=\"729,-27.5 729,-63.5 962,-63.5 962,-27.5 729,-27.5\"/>\n<text text-anchor=\"middle\" x=\"740\" y=\"-41.8\" font-family=\"Times,serif\" font-size=\"14.00\">f</text>\n<polyline fill=\"none\" stroke=\"black\" points=\"751,-27.5 751,-63.5 \"/>\n<text text-anchor=\"middle\" x=\"804.5\" y=\"-41.8\" font-family=\"Times,serif\" font-size=\"14.00\">data &#45;6.0000</text>\n<polyline fill=\"none\" stroke=\"black\" points=\"858,-27.5 858,-63.5 \"/>\n<text text-anchor=\"middle\" x=\"910\" y=\"-41.8\" font-family=\"Times,serif\" font-size=\"14.00\">grad 1.0000</text>\n</g>\n<!-- 140535699095616* -->\n<g id=\"node3\" class=\"node\">\n<title>140535699095616*</title>\n<ellipse fill=\"none\" stroke=\"black\" cx=\"666\" cy=\"-45.5\" rx=\"27\" ry=\"18\"/>\n<text text-anchor=\"middle\" x=\"666\" y=\"-41.8\" font-family=\"Times,serif\" font-size=\"14.00\">*</text>\n</g>\n<!-- 140535699095616*&#45;&gt;140535699095616 -->\n<g id=\"edge1\" class=\"edge\">\n<title>140535699095616*&#45;&gt;140535699095616</title>\n<path fill=\"none\" stroke=\"black\" d=\"M693.19,-45.5C700.71,-45.5 709.44,-45.5 718.84,-45.5\"/>\n<polygon fill=\"black\" stroke=\"black\" points=\"718.87,-49 728.87,-45.5 718.87,-42 718.87,-49\"/>\n</g>\n<!-- 140535699103488 -->\n<g id=\"node4\" class=\"node\">\n<title>140535699103488</title>\n<polygon fill=\"none\" stroke=\"black\" points=\"366,-55.5 366,-91.5 603,-91.5 603,-55.5 366,-55.5\"/>\n<text text-anchor=\"middle\" x=\"379\" y=\"-69.8\" font-family=\"Times,serif\" font-size=\"14.00\">d</text>\n<polyline fill=\"none\" stroke=\"black\" points=\"392,-55.5 392,-91.5 \"/>\n<text text-anchor=\"middle\" x=\"445.5\" y=\"-69.8\" font-family=\"Times,serif\" font-size=\"14.00\">data &#45;6.0000</text>\n<polyline fill=\"none\" stroke=\"black\" points=\"499,-55.5 499,-91.5 \"/>\n<text text-anchor=\"middle\" x=\"551\" y=\"-69.8\" font-family=\"Times,serif\" font-size=\"14.00\">grad 1.0000</text>\n</g>\n<!-- 140535699103488&#45;&gt;140535699095616* -->\n<g id=\"edge4\" class=\"edge\">\n<title>140535699103488&#45;&gt;140535699095616*</title>\n<path fill=\"none\" stroke=\"black\" d=\"M600.96,-55.49C611.12,-53.91 620.8,-52.4 629.41,-51.05\"/>\n<polygon fill=\"black\" stroke=\"black\" points=\"630.02,-54.5 639.36,-49.5 628.94,-47.58 630.02,-54.5\"/>\n</g>\n<!-- 140535699103488*&#45;&gt;140535699103488 -->\n<g id=\"edge2\" class=\"edge\">\n<title>140535699103488*&#45;&gt;140535699103488</title>\n<path fill=\"none\" stroke=\"black\" d=\"M330.1,-73.5C337.61,-73.5 346.33,-73.5 355.75,-73.5\"/>\n<polygon fill=\"black\" stroke=\"black\" points=\"355.78,-77 365.78,-73.5 355.78,-70 355.78,-77\"/>\n</g>\n<!-- 140535699103104 -->\n<g id=\"node6\" class=\"node\">\n<title>140535699103104</title>\n<polygon fill=\"none\" stroke=\"black\" points=\"367,-0.5 367,-36.5 602,-36.5 602,-0.5 367,-0.5\"/>\n<text text-anchor=\"middle\" x=\"379.5\" y=\"-14.8\" font-family=\"Times,serif\" font-size=\"14.00\">e</text>\n<polyline fill=\"none\" stroke=\"black\" points=\"392,-0.5 392,-36.5 \"/>\n<text text-anchor=\"middle\" x=\"443\" y=\"-14.8\" font-family=\"Times,serif\" font-size=\"14.00\">data 1.0000</text>\n<polyline fill=\"none\" stroke=\"black\" points=\"494,-0.5 494,-36.5 \"/>\n<text text-anchor=\"middle\" x=\"548\" y=\"-14.8\" font-family=\"Times,serif\" font-size=\"14.00\">grad &#45;6.0000</text>\n</g>\n<!-- 140535699103104&#45;&gt;140535699095616* -->\n<g id=\"edge9\" class=\"edge\">\n<title>140535699103104&#45;&gt;140535699095616*</title>\n<path fill=\"none\" stroke=\"black\" d=\"M602.22,-36.06C611.92,-37.52 621.15,-38.9 629.41,-40.15\"/>\n<polygon fill=\"black\" stroke=\"black\" points=\"628.9,-43.61 639.31,-41.64 629.94,-36.69 628.9,-43.61\"/>\n</g>\n<!-- 140535699103104+&#45;&gt;140535699103104 -->\n<g id=\"edge3\" class=\"edge\">\n<title>140535699103104+&#45;&gt;140535699103104</title>\n<path fill=\"none\" stroke=\"black\" d=\"M330.1,-18.5C337.9,-18.5 347.03,-18.5 356.87,-18.5\"/>\n<polygon fill=\"black\" stroke=\"black\" points=\"356.93,-22 366.93,-18.5 356.93,-15 356.93,-22\"/>\n</g>\n<!-- 140535699097536 -->\n<g id=\"node8\" class=\"node\">\n<title>140535699097536</title>\n<polygon fill=\"none\" stroke=\"black\" points=\"0,-0.5 0,-36.5 240,-36.5 240,-0.5 0,-0.5\"/>\n<text text-anchor=\"middle\" x=\"12.5\" y=\"-14.8\" font-family=\"Times,serif\" font-size=\"14.00\">a</text>\n<polyline fill=\"none\" stroke=\"black\" points=\"25,-0.5 25,-36.5 \"/>\n<text text-anchor=\"middle\" x=\"78.5\" y=\"-14.8\" font-family=\"Times,serif\" font-size=\"14.00\">data &#45;2.0000</text>\n<polyline fill=\"none\" stroke=\"black\" points=\"132,-0.5 132,-36.5 \"/>\n<text text-anchor=\"middle\" x=\"186\" y=\"-14.8\" font-family=\"Times,serif\" font-size=\"14.00\">grad &#45;3.0000</text>\n</g>\n<!-- 140535699097536&#45;&gt;140535699103488* -->\n<g id=\"edge6\" class=\"edge\">\n<title>140535699097536&#45;&gt;140535699103488*</title>\n<path fill=\"none\" stroke=\"black\" d=\"M206.03,-36.54C217.54,-39.55 229.12,-42.88 240,-46.5 250.44,-49.97 261.55,-54.52 271.44,-58.89\"/>\n<polygon fill=\"black\" stroke=\"black\" points=\"270.3,-62.22 280.85,-63.16 273.19,-55.84 270.3,-62.22\"/>\n</g>\n<!-- 140535699097536&#45;&gt;140535699103104+ -->\n<g id=\"edge8\" class=\"edge\">\n<title>140535699097536&#45;&gt;140535699103104+</title>\n<path fill=\"none\" stroke=\"black\" d=\"M240.22,-18.5C249.32,-18.5 257.99,-18.5 265.8,-18.5\"/>\n<polygon fill=\"black\" stroke=\"black\" points=\"265.88,-22 275.88,-18.5 265.88,-15 265.88,-22\"/>\n</g>\n</g>\n</svg>\n",
      "text/plain": [
       "<graphviz.graphs.Digraph at 0x7fd1046c7880>"
      ]
     },
     "execution_count": 97,
     "metadata": {},
     "output_type": "execute_result"
    }
   ],
   "source": [
    "a = Value(-2.0,label = 'a')\n",
    "b = Value(3.0,label = 'b')\n",
    "d = a*b; d.label='d'\n",
    "e = a+b; e.label='e'\n",
    "f = d * e ; f.label='f'\n",
    "\n",
    "f.backward()\n",
    "draw_dot(f)"
   ]
  },
  {
   "cell_type": "markdown",
   "metadata": {},
   "source": [
    "We can't do a + 1 , a - 1 , a**2 , a.exp ; assuming 'a' is of class Value so we implemented on the class"
   ]
  },
  {
   "cell_type": "markdown",
   "metadata": {},
   "source": [
    "now we extract the pieces of tanh "
   ]
  },
  {
   "cell_type": "code",
   "execution_count": 114,
   "metadata": {},
   "outputs": [
    {
     "data": {
      "image/svg+xml": "<?xml version=\"1.0\" encoding=\"UTF-8\" standalone=\"no\"?>\n<!DOCTYPE svg PUBLIC \"-//W3C//DTD SVG 1.1//EN\"\n \"http://www.w3.org/Graphics/SVG/1.1/DTD/svg11.dtd\">\n<!-- Generated by graphviz version 2.50.0 (0)\n -->\n<!-- Pages: 1 -->\n<svg width=\"1823pt\" height=\"210pt\"\n viewBox=\"0.00 0.00 1822.69 210.00\" xmlns=\"http://www.w3.org/2000/svg\" xmlns:xlink=\"http://www.w3.org/1999/xlink\">\n<g id=\"graph0\" class=\"graph\" transform=\"scale(1 1) rotate(0) translate(4 206)\">\n<polygon fill=\"white\" stroke=\"transparent\" points=\"-4,4 -4,-206 1818.69,-206 1818.69,4 -4,4\"/>\n<!-- 140535699552288 -->\n<g id=\"node1\" class=\"node\">\n<title>140535699552288</title>\n<polygon fill=\"none\" stroke=\"black\" points=\"1583.69,-54.5 1583.69,-90.5 1814.69,-90.5 1814.69,-54.5 1583.69,-54.5\"/>\n<text text-anchor=\"middle\" x=\"1596.19\" y=\"-68.8\" font-family=\"Times,serif\" font-size=\"14.00\">o</text>\n<polyline fill=\"none\" stroke=\"black\" points=\"1608.69,-54.5 1608.69,-90.5 \"/>\n<text text-anchor=\"middle\" x=\"1659.69\" y=\"-68.8\" font-family=\"Times,serif\" font-size=\"14.00\">data 0.7071</text>\n<polyline fill=\"none\" stroke=\"black\" points=\"1710.69,-54.5 1710.69,-90.5 \"/>\n<text text-anchor=\"middle\" x=\"1762.69\" y=\"-68.8\" font-family=\"Times,serif\" font-size=\"14.00\">grad 1.0000</text>\n</g>\n<!-- 140535699552288tanh -->\n<g id=\"node2\" class=\"node\">\n<title>140535699552288tanh</title>\n<ellipse fill=\"none\" stroke=\"black\" cx=\"1515.85\" cy=\"-72.5\" rx=\"31.7\" ry=\"18\"/>\n<text text-anchor=\"middle\" x=\"1515.85\" y=\"-68.8\" font-family=\"Times,serif\" font-size=\"14.00\">tanh</text>\n</g>\n<!-- 140535699552288tanh&#45;&gt;140535699552288 -->\n<g id=\"edge1\" class=\"edge\">\n<title>140535699552288tanh&#45;&gt;140535699552288</title>\n<path fill=\"none\" stroke=\"black\" d=\"M1548.02,-72.5C1555.61,-72.5 1564.19,-72.5 1573.31,-72.5\"/>\n<polygon fill=\"black\" stroke=\"black\" points=\"1573.4,-76 1583.4,-72.5 1573.4,-69 1573.4,-76\"/>\n</g>\n<!-- 140535699549840 -->\n<g id=\"node3\" class=\"node\">\n<title>140535699549840</title>\n<polygon fill=\"none\" stroke=\"black\" points=\"0,-165.5 0,-201.5 249,-201.5 249,-165.5 0,-165.5\"/>\n<text text-anchor=\"middle\" x=\"19\" y=\"-179.8\" font-family=\"Times,serif\" font-size=\"14.00\">w1</text>\n<polyline fill=\"none\" stroke=\"black\" points=\"38,-165.5 38,-201.5 \"/>\n<text text-anchor=\"middle\" x=\"91.5\" y=\"-179.8\" font-family=\"Times,serif\" font-size=\"14.00\">data &#45;3.0000</text>\n<polyline fill=\"none\" stroke=\"black\" points=\"145,-165.5 145,-201.5 \"/>\n<text text-anchor=\"middle\" x=\"197\" y=\"-179.8\" font-family=\"Times,serif\" font-size=\"14.00\">grad 1.0000</text>\n</g>\n<!-- 140535699550896* -->\n<g id=\"node5\" class=\"node\">\n<title>140535699550896*</title>\n<ellipse fill=\"none\" stroke=\"black\" cx=\"312\" cy=\"-128.5\" rx=\"27\" ry=\"18\"/>\n<text text-anchor=\"middle\" x=\"312\" y=\"-124.8\" font-family=\"Times,serif\" font-size=\"14.00\">*</text>\n</g>\n<!-- 140535699549840&#45;&gt;140535699550896* -->\n<g id=\"edge14\" class=\"edge\">\n<title>140535699549840&#45;&gt;140535699550896*</title>\n<path fill=\"none\" stroke=\"black\" d=\"M218.13,-165.46C228.63,-162.77 239.1,-159.78 249,-156.5 259.71,-152.96 271.05,-148.16 281.07,-143.54\"/>\n<polygon fill=\"black\" stroke=\"black\" points=\"282.67,-146.66 290.2,-139.21 279.67,-140.33 282.67,-146.66\"/>\n</g>\n<!-- 140535699550896 -->\n<g id=\"node4\" class=\"node\">\n<title>140535699550896</title>\n<polygon fill=\"none\" stroke=\"black\" points=\"375,-110.5 375,-146.5 648,-146.5 648,-110.5 375,-110.5\"/>\n<text text-anchor=\"middle\" x=\"406\" y=\"-124.8\" font-family=\"Times,serif\" font-size=\"14.00\">x1*w1</text>\n<polyline fill=\"none\" stroke=\"black\" points=\"437,-110.5 437,-146.5 \"/>\n<text text-anchor=\"middle\" x=\"490.5\" y=\"-124.8\" font-family=\"Times,serif\" font-size=\"14.00\">data &#45;6.0000</text>\n<polyline fill=\"none\" stroke=\"black\" points=\"544,-110.5 544,-146.5 \"/>\n<text text-anchor=\"middle\" x=\"596\" y=\"-124.8\" font-family=\"Times,serif\" font-size=\"14.00\">grad 0.5000</text>\n</g>\n<!-- 140535699547968+ -->\n<g id=\"node11\" class=\"node\">\n<title>140535699547968+</title>\n<ellipse fill=\"none\" stroke=\"black\" cx=\"711\" cy=\"-100.5\" rx=\"27\" ry=\"18\"/>\n<text text-anchor=\"middle\" x=\"711\" y=\"-96.8\" font-family=\"Times,serif\" font-size=\"14.00\">+</text>\n</g>\n<!-- 140535699550896&#45;&gt;140535699547968+ -->\n<g id=\"edge9\" class=\"edge\">\n<title>140535699550896&#45;&gt;140535699547968+</title>\n<path fill=\"none\" stroke=\"black\" d=\"M639.53,-110.49C652.09,-108.71 663.99,-107.02 674.3,-105.56\"/>\n<polygon fill=\"black\" stroke=\"black\" points=\"675.03,-108.99 684.44,-104.12 674.05,-102.06 675.03,-108.99\"/>\n</g>\n<!-- 140535699550896*&#45;&gt;140535699550896 -->\n<g id=\"edge2\" class=\"edge\">\n<title>140535699550896*&#45;&gt;140535699550896</title>\n<path fill=\"none\" stroke=\"black\" d=\"M339.23,-128.5C346.7,-128.5 355.41,-128.5 364.87,-128.5\"/>\n<polygon fill=\"black\" stroke=\"black\" points=\"364.98,-132 374.98,-128.5 364.98,-125 364.98,-132\"/>\n</g>\n<!-- 140535699540192 -->\n<g id=\"node6\" class=\"node\">\n<title>140535699540192</title>\n<polygon fill=\"none\" stroke=\"black\" points=\"2.5,-55.5 2.5,-91.5 246.5,-91.5 246.5,-55.5 2.5,-55.5\"/>\n<text text-anchor=\"middle\" x=\"21.5\" y=\"-69.8\" font-family=\"Times,serif\" font-size=\"14.00\">w2</text>\n<polyline fill=\"none\" stroke=\"black\" points=\"40.5,-55.5 40.5,-91.5 \"/>\n<text text-anchor=\"middle\" x=\"91.5\" y=\"-69.8\" font-family=\"Times,serif\" font-size=\"14.00\">data 1.0000</text>\n<polyline fill=\"none\" stroke=\"black\" points=\"142.5,-55.5 142.5,-91.5 \"/>\n<text text-anchor=\"middle\" x=\"194.5\" y=\"-69.8\" font-family=\"Times,serif\" font-size=\"14.00\">grad 0.0000</text>\n</g>\n<!-- 140535699549456* -->\n<g id=\"node9\" class=\"node\">\n<title>140535699549456*</title>\n<ellipse fill=\"none\" stroke=\"black\" cx=\"312\" cy=\"-73.5\" rx=\"27\" ry=\"18\"/>\n<text text-anchor=\"middle\" x=\"312\" y=\"-69.8\" font-family=\"Times,serif\" font-size=\"14.00\">*</text>\n</g>\n<!-- 140535699540192&#45;&gt;140535699549456* -->\n<g id=\"edge10\" class=\"edge\">\n<title>140535699540192&#45;&gt;140535699549456*</title>\n<path fill=\"none\" stroke=\"black\" d=\"M246.64,-73.5C256.7,-73.5 266.26,-73.5 274.79,-73.5\"/>\n<polygon fill=\"black\" stroke=\"black\" points=\"275,-77 285,-73.5 275,-70 275,-77\"/>\n</g>\n<!-- 140535699550464 -->\n<g id=\"node7\" class=\"node\">\n<title>140535699550464</title>\n<polygon fill=\"none\" stroke=\"black\" points=\"2.5,-110.5 2.5,-146.5 246.5,-146.5 246.5,-110.5 2.5,-110.5\"/>\n<text text-anchor=\"middle\" x=\"19.5\" y=\"-124.8\" font-family=\"Times,serif\" font-size=\"14.00\">x1</text>\n<polyline fill=\"none\" stroke=\"black\" points=\"36.5,-110.5 36.5,-146.5 \"/>\n<text text-anchor=\"middle\" x=\"87.5\" y=\"-124.8\" font-family=\"Times,serif\" font-size=\"14.00\">data 2.0000</text>\n<polyline fill=\"none\" stroke=\"black\" points=\"138.5,-110.5 138.5,-146.5 \"/>\n<text text-anchor=\"middle\" x=\"192.5\" y=\"-124.8\" font-family=\"Times,serif\" font-size=\"14.00\">grad &#45;1.5000</text>\n</g>\n<!-- 140535699550464&#45;&gt;140535699550896* -->\n<g id=\"edge7\" class=\"edge\">\n<title>140535699550464&#45;&gt;140535699550896*</title>\n<path fill=\"none\" stroke=\"black\" d=\"M246.64,-128.5C256.7,-128.5 266.26,-128.5 274.79,-128.5\"/>\n<polygon fill=\"black\" stroke=\"black\" points=\"275,-132 285,-128.5 275,-125 275,-132\"/>\n</g>\n<!-- 140535699549456 -->\n<g id=\"node8\" class=\"node\">\n<title>140535699549456</title>\n<polygon fill=\"none\" stroke=\"black\" points=\"377.5,-55.5 377.5,-91.5 645.5,-91.5 645.5,-55.5 377.5,-55.5\"/>\n<text text-anchor=\"middle\" x=\"408.5\" y=\"-69.8\" font-family=\"Times,serif\" font-size=\"14.00\">x2*w2</text>\n<polyline fill=\"none\" stroke=\"black\" points=\"439.5,-55.5 439.5,-91.5 \"/>\n<text text-anchor=\"middle\" x=\"490.5\" y=\"-69.8\" font-family=\"Times,serif\" font-size=\"14.00\">data 0.0000</text>\n<polyline fill=\"none\" stroke=\"black\" points=\"541.5,-55.5 541.5,-91.5 \"/>\n<text text-anchor=\"middle\" x=\"593.5\" y=\"-69.8\" font-family=\"Times,serif\" font-size=\"14.00\">grad 0.5000</text>\n</g>\n<!-- 140535699549456&#45;&gt;140535699547968+ -->\n<g id=\"edge6\" class=\"edge\">\n<title>140535699549456&#45;&gt;140535699547968+</title>\n<path fill=\"none\" stroke=\"black\" d=\"M644.24,-91.51C655.12,-93 665.4,-94.4 674.45,-95.64\"/>\n<polygon fill=\"black\" stroke=\"black\" points=\"674.11,-99.13 684.49,-97.01 675.05,-92.19 674.11,-99.13\"/>\n</g>\n<!-- 140535699549456*&#45;&gt;140535699549456 -->\n<g id=\"edge3\" class=\"edge\">\n<title>140535699549456*&#45;&gt;140535699549456</title>\n<path fill=\"none\" stroke=\"black\" d=\"M339.23,-73.5C347.26,-73.5 356.72,-73.5 366.99,-73.5\"/>\n<polygon fill=\"black\" stroke=\"black\" points=\"367.08,-77 377.08,-73.5 367.08,-70 367.08,-77\"/>\n</g>\n<!-- 140535699547968 -->\n<g id=\"node10\" class=\"node\">\n<title>140535699547968</title>\n<polygon fill=\"none\" stroke=\"black\" points=\"774,-82.5 774,-118.5 1090,-118.5 1090,-82.5 774,-82.5\"/>\n<text text-anchor=\"middle\" x=\"826.5\" y=\"-96.8\" font-family=\"Times,serif\" font-size=\"14.00\">x1w1+x2w2</text>\n<polyline fill=\"none\" stroke=\"black\" points=\"879,-82.5 879,-118.5 \"/>\n<text text-anchor=\"middle\" x=\"932.5\" y=\"-96.8\" font-family=\"Times,serif\" font-size=\"14.00\">data &#45;6.0000</text>\n<polyline fill=\"none\" stroke=\"black\" points=\"986,-82.5 986,-118.5 \"/>\n<text text-anchor=\"middle\" x=\"1038\" y=\"-96.8\" font-family=\"Times,serif\" font-size=\"14.00\">grad 0.5000</text>\n</g>\n<!-- 140535699542928+ -->\n<g id=\"node13\" class=\"node\">\n<title>140535699542928+</title>\n<ellipse fill=\"none\" stroke=\"black\" cx=\"1153\" cy=\"-72.5\" rx=\"27\" ry=\"18\"/>\n<text text-anchor=\"middle\" x=\"1153\" y=\"-68.8\" font-family=\"Times,serif\" font-size=\"14.00\">+</text>\n</g>\n<!-- 140535699547968&#45;&gt;140535699542928+ -->\n<g id=\"edge11\" class=\"edge\">\n<title>140535699547968&#45;&gt;140535699542928+</title>\n<path fill=\"none\" stroke=\"black\" d=\"M1073.86,-82.49C1089.28,-80.52 1103.78,-78.66 1116.02,-77.1\"/>\n<polygon fill=\"black\" stroke=\"black\" points=\"1116.67,-80.55 1126.15,-75.81 1115.78,-73.6 1116.67,-80.55\"/>\n</g>\n<!-- 140535699547968+&#45;&gt;140535699547968 -->\n<g id=\"edge4\" class=\"edge\">\n<title>140535699547968+&#45;&gt;140535699547968</title>\n<path fill=\"none\" stroke=\"black\" d=\"M738.42,-100.5C745.76,-100.5 754.32,-100.5 763.66,-100.5\"/>\n<polygon fill=\"black\" stroke=\"black\" points=\"763.67,-104 773.67,-100.5 763.67,-97 763.67,-104\"/>\n</g>\n<!-- 140535699542928 -->\n<g id=\"node12\" class=\"node\">\n<title>140535699542928</title>\n<polygon fill=\"none\" stroke=\"black\" points=\"1216,-54.5 1216,-90.5 1448,-90.5 1448,-54.5 1216,-54.5\"/>\n<text text-anchor=\"middle\" x=\"1229\" y=\"-68.8\" font-family=\"Times,serif\" font-size=\"14.00\">n</text>\n<polyline fill=\"none\" stroke=\"black\" points=\"1242,-54.5 1242,-90.5 \"/>\n<text text-anchor=\"middle\" x=\"1293\" y=\"-68.8\" font-family=\"Times,serif\" font-size=\"14.00\">data 0.8814</text>\n<polyline fill=\"none\" stroke=\"black\" points=\"1344,-54.5 1344,-90.5 \"/>\n<text text-anchor=\"middle\" x=\"1396\" y=\"-68.8\" font-family=\"Times,serif\" font-size=\"14.00\">grad 0.5000</text>\n</g>\n<!-- 140535699542928&#45;&gt;140535699552288tanh -->\n<g id=\"edge12\" class=\"edge\">\n<title>140535699542928&#45;&gt;140535699552288tanh</title>\n<path fill=\"none\" stroke=\"black\" d=\"M1448.17,-72.5C1457.08,-72.5 1465.66,-72.5 1473.53,-72.5\"/>\n<polygon fill=\"black\" stroke=\"black\" points=\"1473.78,-76 1483.78,-72.5 1473.78,-69 1473.78,-76\"/>\n</g>\n<!-- 140535699542928+&#45;&gt;140535699542928 -->\n<g id=\"edge5\" class=\"edge\">\n<title>140535699542928+&#45;&gt;140535699542928</title>\n<path fill=\"none\" stroke=\"black\" d=\"M1180.12,-72.5C1187.53,-72.5 1196.14,-72.5 1205.4,-72.5\"/>\n<polygon fill=\"black\" stroke=\"black\" points=\"1205.69,-76 1215.69,-72.5 1205.69,-69 1205.69,-76\"/>\n</g>\n<!-- 140535699550128 -->\n<g id=\"node14\" class=\"node\">\n<title>140535699550128</title>\n<polygon fill=\"none\" stroke=\"black\" points=\"4.5,-0.5 4.5,-36.5 244.5,-36.5 244.5,-0.5 4.5,-0.5\"/>\n<text text-anchor=\"middle\" x=\"21.5\" y=\"-14.8\" font-family=\"Times,serif\" font-size=\"14.00\">x2</text>\n<polyline fill=\"none\" stroke=\"black\" points=\"38.5,-0.5 38.5,-36.5 \"/>\n<text text-anchor=\"middle\" x=\"89.5\" y=\"-14.8\" font-family=\"Times,serif\" font-size=\"14.00\">data 0.0000</text>\n<polyline fill=\"none\" stroke=\"black\" points=\"140.5,-0.5 140.5,-36.5 \"/>\n<text text-anchor=\"middle\" x=\"192.5\" y=\"-14.8\" font-family=\"Times,serif\" font-size=\"14.00\">grad 0.5000</text>\n</g>\n<!-- 140535699550128&#45;&gt;140535699549456* -->\n<g id=\"edge13\" class=\"edge\">\n<title>140535699550128&#45;&gt;140535699549456*</title>\n<path fill=\"none\" stroke=\"black\" d=\"M218.13,-36.54C228.63,-39.23 239.1,-42.22 249,-45.5 259.71,-49.04 271.05,-53.84 281.07,-58.46\"/>\n<polygon fill=\"black\" stroke=\"black\" points=\"279.67,-61.67 290.2,-62.79 282.67,-55.34 279.67,-61.67\"/>\n</g>\n<!-- 140535699551184 -->\n<g id=\"node15\" class=\"node\">\n<title>140535699551184</title>\n<polygon fill=\"none\" stroke=\"black\" points=\"816,-27.5 816,-63.5 1048,-63.5 1048,-27.5 816,-27.5\"/>\n<text text-anchor=\"middle\" x=\"829\" y=\"-41.8\" font-family=\"Times,serif\" font-size=\"14.00\">b</text>\n<polyline fill=\"none\" stroke=\"black\" points=\"842,-27.5 842,-63.5 \"/>\n<text text-anchor=\"middle\" x=\"893\" y=\"-41.8\" font-family=\"Times,serif\" font-size=\"14.00\">data 6.8814</text>\n<polyline fill=\"none\" stroke=\"black\" points=\"944,-27.5 944,-63.5 \"/>\n<text text-anchor=\"middle\" x=\"996\" y=\"-41.8\" font-family=\"Times,serif\" font-size=\"14.00\">grad 0.5000</text>\n</g>\n<!-- 140535699551184&#45;&gt;140535699542928+ -->\n<g id=\"edge8\" class=\"edge\">\n<title>140535699551184&#45;&gt;140535699542928+</title>\n<path fill=\"none\" stroke=\"black\" d=\"M1048.27,-59.71C1072.85,-62.74 1097.04,-65.72 1115.87,-68.05\"/>\n<polygon fill=\"black\" stroke=\"black\" points=\"1115.67,-71.55 1126.02,-69.3 1116.52,-64.6 1115.67,-71.55\"/>\n</g>\n</g>\n</svg>\n",
      "text/plain": [
       "<graphviz.graphs.Digraph at 0x7fd104731780>"
      ]
     },
     "execution_count": 114,
     "metadata": {},
     "output_type": "execute_result"
    }
   ],
   "source": [
    "#inputs of nn\n",
    "x1 = Value(2.0,label='x1')\n",
    "x2 = Value(0.0,label='x2')\n",
    "#weights of nn\n",
    "w1 = Value(-3.0,label='w1')\n",
    "w2 = Value(1.0,label='w2')\n",
    "#bias of nn\n",
    "b = Value(6.8813735830195432,label='b')\n",
    "\n",
    "x1w1 = x1*w1; x1w1.label = 'x1*w1'\n",
    "x2w2 = x2*w2; x2w2.label = 'x2*w2'\n",
    "x1w1x2w2 = x1w1+x2w2; x1w1x2w2.label='x1w1+x2w2'\n",
    "n = x1w1x2w2 + b ; n.label='n'\n",
    "# we have to implement tanh in Value class\n",
    "o = n.tanh(); o.label ='o'\n",
    "o.backward()\n",
    "draw_dot(o)"
   ]
  },
  {
   "cell_type": "code",
   "execution_count": 115,
   "metadata": {},
   "outputs": [
    {
     "data": {
      "image/svg+xml": "<?xml version=\"1.0\" encoding=\"UTF-8\" standalone=\"no\"?>\n<!DOCTYPE svg PUBLIC \"-//W3C//DTD SVG 1.1//EN\"\n \"http://www.w3.org/Graphics/SVG/1.1/DTD/svg11.dtd\">\n<!-- Generated by graphviz version 2.50.0 (0)\n -->\n<!-- Pages: 1 -->\n<svg width=\"3408pt\" height=\"239pt\"\n viewBox=\"0.00 0.00 3407.60 239.00\" xmlns=\"http://www.w3.org/2000/svg\" xmlns:xlink=\"http://www.w3.org/1999/xlink\">\n<g id=\"graph0\" class=\"graph\" transform=\"scale(1 1) rotate(0) translate(4 235)\">\n<polygon fill=\"white\" stroke=\"transparent\" points=\"-4,4 -4,-235 3403.6,-235 3403.6,4 -4,4\"/>\n<!-- 140535699548160 -->\n<g id=\"node1\" class=\"node\">\n<title>140535699548160</title>\n<polygon fill=\"none\" stroke=\"black\" points=\"1928.1,-110.5 1928.1,-146.5 2159.1,-146.5 2159.1,-110.5 1928.1,-110.5\"/>\n<text text-anchor=\"middle\" x=\"1938.6\" y=\"-124.8\" font-family=\"Times,serif\" font-size=\"14.00\"> </text>\n<polyline fill=\"none\" stroke=\"black\" points=\"1949.1,-110.5 1949.1,-146.5 \"/>\n<text text-anchor=\"middle\" x=\"2000.1\" y=\"-124.8\" font-family=\"Times,serif\" font-size=\"14.00\">data 1.0000</text>\n<polyline fill=\"none\" stroke=\"black\" points=\"2051.1,-110.5 2051.1,-146.5 \"/>\n<text text-anchor=\"middle\" x=\"2105.1\" y=\"-124.8\" font-family=\"Times,serif\" font-size=\"14.00\">grad &#45;0.1036</text>\n</g>\n<!-- 140535699540240+ -->\n<g id=\"node24\" class=\"node\">\n<title>140535699540240+</title>\n<ellipse fill=\"none\" stroke=\"black\" cx=\"2222.6\" cy=\"-100.5\" rx=\"27\" ry=\"18\"/>\n<text text-anchor=\"middle\" x=\"2222.6\" y=\"-96.8\" font-family=\"Times,serif\" font-size=\"14.00\">+</text>\n</g>\n<!-- 140535699548160&#45;&gt;140535699540240+ -->\n<g id=\"edge17\" class=\"edge\">\n<title>140535699548160&#45;&gt;140535699540240+</title>\n<path fill=\"none\" stroke=\"black\" d=\"M2158.69,-110.45C2168.48,-108.9 2177.8,-107.43 2186.14,-106.11\"/>\n<polygon fill=\"black\" stroke=\"black\" points=\"2186.79,-109.55 2196.12,-104.53 2185.69,-102.64 2186.79,-109.55\"/>\n</g>\n<!-- 140535699551760 -->\n<g id=\"node2\" class=\"node\">\n<title>140535699551760</title>\n<polygon fill=\"none\" stroke=\"black\" points=\"1216,-83.5 1216,-119.5 1448,-119.5 1448,-83.5 1216,-83.5\"/>\n<text text-anchor=\"middle\" x=\"1229\" y=\"-97.8\" font-family=\"Times,serif\" font-size=\"14.00\">n</text>\n<polyline fill=\"none\" stroke=\"black\" points=\"1242,-83.5 1242,-119.5 \"/>\n<text text-anchor=\"middle\" x=\"1293\" y=\"-97.8\" font-family=\"Times,serif\" font-size=\"14.00\">data 0.8814</text>\n<polyline fill=\"none\" stroke=\"black\" points=\"1344,-83.5 1344,-119.5 \"/>\n<text text-anchor=\"middle\" x=\"1396\" y=\"-97.8\" font-family=\"Times,serif\" font-size=\"14.00\">grad 0.5000</text>\n</g>\n<!-- 140535699553392* -->\n<g id=\"node12\" class=\"node\">\n<title>140535699553392*</title>\n<ellipse fill=\"none\" stroke=\"black\" cx=\"1511\" cy=\"-73.5\" rx=\"27\" ry=\"18\"/>\n<text text-anchor=\"middle\" x=\"1511\" y=\"-69.8\" font-family=\"Times,serif\" font-size=\"14.00\">*</text>\n</g>\n<!-- 140535699551760&#45;&gt;140535699553392* -->\n<g id=\"edge19\" class=\"edge\">\n<title>140535699551760&#45;&gt;140535699553392*</title>\n<path fill=\"none\" stroke=\"black\" d=\"M1447.1,-83.45C1456.88,-81.9 1466.21,-80.43 1474.54,-79.11\"/>\n<polygon fill=\"black\" stroke=\"black\" points=\"1475.19,-82.55 1484.52,-77.53 1474.1,-75.64 1475.19,-82.55\"/>\n</g>\n<!-- 140535699551760+ -->\n<g id=\"node3\" class=\"node\">\n<title>140535699551760+</title>\n<ellipse fill=\"none\" stroke=\"black\" cx=\"1153\" cy=\"-101.5\" rx=\"27\" ry=\"18\"/>\n<text text-anchor=\"middle\" x=\"1153\" y=\"-97.8\" font-family=\"Times,serif\" font-size=\"14.00\">+</text>\n</g>\n<!-- 140535699551760+&#45;&gt;140535699551760 -->\n<g id=\"edge1\" class=\"edge\">\n<title>140535699551760+&#45;&gt;140535699551760</title>\n<path fill=\"none\" stroke=\"black\" d=\"M1180.12,-101.5C1187.53,-101.5 1196.14,-101.5 1205.4,-101.5\"/>\n<polygon fill=\"black\" stroke=\"black\" points=\"1205.69,-105 1215.69,-101.5 1205.69,-98 1205.69,-105\"/>\n</g>\n<!-- 140535699551280 -->\n<g id=\"node4\" class=\"node\">\n<title>140535699551280</title>\n<polygon fill=\"none\" stroke=\"black\" points=\"375,-139.5 375,-175.5 648,-175.5 648,-139.5 375,-139.5\"/>\n<text text-anchor=\"middle\" x=\"406\" y=\"-153.8\" font-family=\"Times,serif\" font-size=\"14.00\">x1*w1</text>\n<polyline fill=\"none\" stroke=\"black\" points=\"437,-139.5 437,-175.5 \"/>\n<text text-anchor=\"middle\" x=\"490.5\" y=\"-153.8\" font-family=\"Times,serif\" font-size=\"14.00\">data &#45;6.0000</text>\n<polyline fill=\"none\" stroke=\"black\" points=\"544,-139.5 544,-175.5 \"/>\n<text text-anchor=\"middle\" x=\"596\" y=\"-153.8\" font-family=\"Times,serif\" font-size=\"14.00\">grad 0.5000</text>\n</g>\n<!-- 140535699548448+ -->\n<g id=\"node17\" class=\"node\">\n<title>140535699548448+</title>\n<ellipse fill=\"none\" stroke=\"black\" cx=\"711\" cy=\"-129.5\" rx=\"27\" ry=\"18\"/>\n<text text-anchor=\"middle\" x=\"711\" y=\"-125.8\" font-family=\"Times,serif\" font-size=\"14.00\">+</text>\n</g>\n<!-- 140535699551280&#45;&gt;140535699548448+ -->\n<g id=\"edge22\" class=\"edge\">\n<title>140535699551280&#45;&gt;140535699548448+</title>\n<path fill=\"none\" stroke=\"black\" d=\"M639.53,-139.49C652.09,-137.71 663.99,-136.02 674.3,-134.56\"/>\n<polygon fill=\"black\" stroke=\"black\" points=\"675.03,-137.99 684.44,-133.12 674.05,-131.06 675.03,-137.99\"/>\n</g>\n<!-- 140535699551280* -->\n<g id=\"node5\" class=\"node\">\n<title>140535699551280*</title>\n<ellipse fill=\"none\" stroke=\"black\" cx=\"312\" cy=\"-157.5\" rx=\"27\" ry=\"18\"/>\n<text text-anchor=\"middle\" x=\"312\" y=\"-153.8\" font-family=\"Times,serif\" font-size=\"14.00\">*</text>\n</g>\n<!-- 140535699551280*&#45;&gt;140535699551280 -->\n<g id=\"edge2\" class=\"edge\">\n<title>140535699551280*&#45;&gt;140535699551280</title>\n<path fill=\"none\" stroke=\"black\" d=\"M339.23,-157.5C346.7,-157.5 355.41,-157.5 364.87,-157.5\"/>\n<polygon fill=\"black\" stroke=\"black\" points=\"364.98,-161 374.98,-157.5 364.98,-154 364.98,-161\"/>\n</g>\n<!-- 140535699548736 -->\n<g id=\"node6\" class=\"node\">\n<title>140535699548736</title>\n<polygon fill=\"none\" stroke=\"black\" points=\"1930.1,-55.5 1930.1,-91.5 2157.1,-91.5 2157.1,-55.5 1930.1,-55.5\"/>\n<text text-anchor=\"middle\" x=\"1940.6\" y=\"-69.8\" font-family=\"Times,serif\" font-size=\"14.00\"> </text>\n<polyline fill=\"none\" stroke=\"black\" points=\"1951.1,-55.5 1951.1,-91.5 \"/>\n<text text-anchor=\"middle\" x=\"2002.1\" y=\"-69.8\" font-family=\"Times,serif\" font-size=\"14.00\">data 5.8284</text>\n<polyline fill=\"none\" stroke=\"black\" points=\"2053.1,-55.5 2053.1,-91.5 \"/>\n<text text-anchor=\"middle\" x=\"2105.1\" y=\"-69.8\" font-family=\"Times,serif\" font-size=\"14.00\">grad 0.0429</text>\n</g>\n<!-- 140535699550272+ -->\n<g id=\"node9\" class=\"node\">\n<title>140535699550272+</title>\n<ellipse fill=\"none\" stroke=\"black\" cx=\"2222.6\" cy=\"-45.5\" rx=\"27\" ry=\"18\"/>\n<text text-anchor=\"middle\" x=\"2222.6\" y=\"-41.8\" font-family=\"Times,serif\" font-size=\"14.00\">+</text>\n</g>\n<!-- 140535699548736&#45;&gt;140535699550272+ -->\n<g id=\"edge27\" class=\"edge\">\n<title>140535699548736&#45;&gt;140535699550272+</title>\n<path fill=\"none\" stroke=\"black\" d=\"M2157.19,-55.69C2167.47,-54.06 2177.28,-52.51 2186,-51.13\"/>\n<polygon fill=\"black\" stroke=\"black\" points=\"2186.73,-54.56 2196.06,-49.54 2185.64,-47.64 2186.73,-54.56\"/>\n</g>\n<!-- 140535699548736&#45;&gt;140535699540240+ -->\n<g id=\"edge15\" class=\"edge\">\n<title>140535699548736&#45;&gt;140535699540240+</title>\n<path fill=\"none\" stroke=\"black\" d=\"M2157.19,-90.68C2167.47,-92.24 2177.28,-93.74 2186,-95.07\"/>\n<polygon fill=\"black\" stroke=\"black\" points=\"2185.65,-98.56 2196.06,-96.61 2186.7,-91.64 2185.65,-98.56\"/>\n</g>\n<!-- 140535699548736exp -->\n<g id=\"node7\" class=\"node\">\n<title>140535699548736exp</title>\n<ellipse fill=\"none\" stroke=\"black\" cx=\"1864.3\" cy=\"-73.5\" rx=\"27.1\" ry=\"18\"/>\n<text text-anchor=\"middle\" x=\"1864.3\" y=\"-69.8\" font-family=\"Times,serif\" font-size=\"14.00\">exp</text>\n</g>\n<!-- 140535699548736exp&#45;&gt;140535699548736 -->\n<g id=\"edge3\" class=\"edge\">\n<title>140535699548736exp&#45;&gt;140535699548736</title>\n<path fill=\"none\" stroke=\"black\" d=\"M1891.84,-73.5C1899.97,-73.5 1909.49,-73.5 1919.74,-73.5\"/>\n<polygon fill=\"black\" stroke=\"black\" points=\"1919.76,-77 1929.76,-73.5 1919.76,-70 1919.76,-77\"/>\n</g>\n<!-- 140535699550272 -->\n<g id=\"node8\" class=\"node\">\n<title>140535699550272</title>\n<polygon fill=\"none\" stroke=\"black\" points=\"2552.6,-27.5 2552.6,-63.5 2779.6,-63.5 2779.6,-27.5 2552.6,-27.5\"/>\n<text text-anchor=\"middle\" x=\"2563.1\" y=\"-41.8\" font-family=\"Times,serif\" font-size=\"14.00\"> </text>\n<polyline fill=\"none\" stroke=\"black\" points=\"2573.6,-27.5 2573.6,-63.5 \"/>\n<text text-anchor=\"middle\" x=\"2624.6\" y=\"-41.8\" font-family=\"Times,serif\" font-size=\"14.00\">data 4.8284</text>\n<polyline fill=\"none\" stroke=\"black\" points=\"2675.6,-27.5 2675.6,-63.5 \"/>\n<text text-anchor=\"middle\" x=\"2727.6\" y=\"-41.8\" font-family=\"Times,serif\" font-size=\"14.00\">grad 0.1464</text>\n</g>\n<!-- 140535699401664* -->\n<g id=\"node28\" class=\"node\">\n<title>140535699401664*</title>\n<ellipse fill=\"none\" stroke=\"black\" cx=\"3105.6\" cy=\"-72.5\" rx=\"27\" ry=\"18\"/>\n<text text-anchor=\"middle\" x=\"3105.6\" y=\"-68.8\" font-family=\"Times,serif\" font-size=\"14.00\">*</text>\n</g>\n<!-- 140535699550272&#45;&gt;140535699401664* -->\n<g id=\"edge24\" class=\"edge\">\n<title>140535699550272&#45;&gt;140535699401664*</title>\n<path fill=\"none\" stroke=\"black\" d=\"M2779.76,-52.45C2875.02,-58.33 3005.68,-66.4 3068.28,-70.26\"/>\n<polygon fill=\"black\" stroke=\"black\" points=\"3068.24,-73.76 3078.44,-70.89 3068.68,-66.78 3068.24,-73.76\"/>\n</g>\n<!-- 140535699550272+&#45;&gt;140535699550272 -->\n<g id=\"edge4\" class=\"edge\">\n<title>140535699550272+&#45;&gt;140535699550272</title>\n<path fill=\"none\" stroke=\"black\" d=\"M2249.89,-45.5C2306.16,-45.5 2441.31,-45.5 2542.23,-45.5\"/>\n<polygon fill=\"black\" stroke=\"black\" points=\"2542.5,-49 2552.5,-45.5 2542.5,-42 2542.5,-49\"/>\n</g>\n<!-- 140535699096144 -->\n<g id=\"node10\" class=\"node\">\n<title>140535699096144</title>\n<polygon fill=\"none\" stroke=\"black\" points=\"2.5,-84.5 2.5,-120.5 246.5,-120.5 246.5,-84.5 2.5,-84.5\"/>\n<text text-anchor=\"middle\" x=\"21.5\" y=\"-98.8\" font-family=\"Times,serif\" font-size=\"14.00\">w2</text>\n<polyline fill=\"none\" stroke=\"black\" points=\"40.5,-84.5 40.5,-120.5 \"/>\n<text text-anchor=\"middle\" x=\"91.5\" y=\"-98.8\" font-family=\"Times,serif\" font-size=\"14.00\">data 1.0000</text>\n<polyline fill=\"none\" stroke=\"black\" points=\"142.5,-84.5 142.5,-120.5 \"/>\n<text text-anchor=\"middle\" x=\"194.5\" y=\"-98.8\" font-family=\"Times,serif\" font-size=\"14.00\">grad 0.0000</text>\n</g>\n<!-- 140535699548544* -->\n<g id=\"node26\" class=\"node\">\n<title>140535699548544*</title>\n<ellipse fill=\"none\" stroke=\"black\" cx=\"312\" cy=\"-102.5\" rx=\"27\" ry=\"18\"/>\n<text text-anchor=\"middle\" x=\"312\" y=\"-98.8\" font-family=\"Times,serif\" font-size=\"14.00\">*</text>\n</g>\n<!-- 140535699096144&#45;&gt;140535699548544* -->\n<g id=\"edge20\" class=\"edge\">\n<title>140535699096144&#45;&gt;140535699548544*</title>\n<path fill=\"none\" stroke=\"black\" d=\"M246.64,-102.5C256.7,-102.5 266.26,-102.5 274.79,-102.5\"/>\n<polygon fill=\"black\" stroke=\"black\" points=\"275,-106 285,-102.5 275,-99 275,-106\"/>\n</g>\n<!-- 140535699553392 -->\n<g id=\"node11\" class=\"node\">\n<title>140535699553392</title>\n<polygon fill=\"none\" stroke=\"black\" points=\"1574,-55.5 1574,-91.5 1801,-91.5 1801,-55.5 1574,-55.5\"/>\n<text text-anchor=\"middle\" x=\"1584.5\" y=\"-69.8\" font-family=\"Times,serif\" font-size=\"14.00\"> </text>\n<polyline fill=\"none\" stroke=\"black\" points=\"1595,-55.5 1595,-91.5 \"/>\n<text text-anchor=\"middle\" x=\"1646\" y=\"-69.8\" font-family=\"Times,serif\" font-size=\"14.00\">data 1.7627</text>\n<polyline fill=\"none\" stroke=\"black\" points=\"1697,-55.5 1697,-91.5 \"/>\n<text text-anchor=\"middle\" x=\"1749\" y=\"-69.8\" font-family=\"Times,serif\" font-size=\"14.00\">grad 0.2500</text>\n</g>\n<!-- 140535699553392&#45;&gt;140535699548736exp -->\n<g id=\"edge28\" class=\"edge\">\n<title>140535699553392&#45;&gt;140535699548736exp</title>\n<path fill=\"none\" stroke=\"black\" d=\"M1801.18,-73.5C1810.26,-73.5 1818.95,-73.5 1826.79,-73.5\"/>\n<polygon fill=\"black\" stroke=\"black\" points=\"1826.93,-77 1836.93,-73.5 1826.93,-70 1826.93,-77\"/>\n</g>\n<!-- 140535699553392*&#45;&gt;140535699553392 -->\n<g id=\"edge5\" class=\"edge\">\n<title>140535699553392*&#45;&gt;140535699553392</title>\n<path fill=\"none\" stroke=\"black\" d=\"M1538.12,-73.5C1545.67,-73.5 1554.45,-73.5 1563.9,-73.5\"/>\n<polygon fill=\"black\" stroke=\"black\" points=\"1563.95,-77 1573.95,-73.5 1563.95,-70 1563.95,-77\"/>\n</g>\n<!-- 140535699097200 -->\n<g id=\"node13\" class=\"node\">\n<title>140535699097200</title>\n<polygon fill=\"none\" stroke=\"black\" points=\"4.5,-29.5 4.5,-65.5 244.5,-65.5 244.5,-29.5 4.5,-29.5\"/>\n<text text-anchor=\"middle\" x=\"21.5\" y=\"-43.8\" font-family=\"Times,serif\" font-size=\"14.00\">x2</text>\n<polyline fill=\"none\" stroke=\"black\" points=\"38.5,-29.5 38.5,-65.5 \"/>\n<text text-anchor=\"middle\" x=\"89.5\" y=\"-43.8\" font-family=\"Times,serif\" font-size=\"14.00\">data 0.0000</text>\n<polyline fill=\"none\" stroke=\"black\" points=\"140.5,-29.5 140.5,-65.5 \"/>\n<text text-anchor=\"middle\" x=\"192.5\" y=\"-43.8\" font-family=\"Times,serif\" font-size=\"14.00\">grad 0.5000</text>\n</g>\n<!-- 140535699097200&#45;&gt;140535699548544* -->\n<g id=\"edge21\" class=\"edge\">\n<title>140535699097200&#45;&gt;140535699548544*</title>\n<path fill=\"none\" stroke=\"black\" d=\"M218.13,-65.54C228.63,-68.23 239.1,-71.22 249,-74.5 259.71,-78.04 271.05,-82.84 281.07,-87.46\"/>\n<polygon fill=\"black\" stroke=\"black\" points=\"279.67,-90.67 290.2,-91.79 282.67,-84.34 279.67,-90.67\"/>\n</g>\n<!-- 140535699096720 -->\n<g id=\"node14\" class=\"node\">\n<title>140535699096720</title>\n<polygon fill=\"none\" stroke=\"black\" points=\"0,-194.5 0,-230.5 249,-230.5 249,-194.5 0,-194.5\"/>\n<text text-anchor=\"middle\" x=\"19\" y=\"-208.8\" font-family=\"Times,serif\" font-size=\"14.00\">w1</text>\n<polyline fill=\"none\" stroke=\"black\" points=\"38,-194.5 38,-230.5 \"/>\n<text text-anchor=\"middle\" x=\"91.5\" y=\"-208.8\" font-family=\"Times,serif\" font-size=\"14.00\">data &#45;3.0000</text>\n<polyline fill=\"none\" stroke=\"black\" points=\"145,-194.5 145,-230.5 \"/>\n<text text-anchor=\"middle\" x=\"197\" y=\"-208.8\" font-family=\"Times,serif\" font-size=\"14.00\">grad 1.0000</text>\n</g>\n<!-- 140535699096720&#45;&gt;140535699551280* -->\n<g id=\"edge14\" class=\"edge\">\n<title>140535699096720&#45;&gt;140535699551280*</title>\n<path fill=\"none\" stroke=\"black\" d=\"M214.42,-194.45C226.15,-191.46 237.93,-188.13 249,-184.5 259.46,-181.07 270.57,-176.53 280.46,-172.16\"/>\n<polygon fill=\"black\" stroke=\"black\" points=\"282.21,-175.21 289.87,-167.88 279.31,-168.83 282.21,-175.21\"/>\n</g>\n<!-- 140535699547920 -->\n<g id=\"node15\" class=\"node\">\n<title>140535699547920</title>\n<polygon fill=\"none\" stroke=\"black\" points=\"1927.6,-0.5 1927.6,-36.5 2159.6,-36.5 2159.6,-0.5 1927.6,-0.5\"/>\n<text text-anchor=\"middle\" x=\"1938.1\" y=\"-14.8\" font-family=\"Times,serif\" font-size=\"14.00\"> </text>\n<polyline fill=\"none\" stroke=\"black\" points=\"1948.6,-0.5 1948.6,-36.5 \"/>\n<text text-anchor=\"middle\" x=\"2002.1\" y=\"-14.8\" font-family=\"Times,serif\" font-size=\"14.00\">data &#45;1.0000</text>\n<polyline fill=\"none\" stroke=\"black\" points=\"2055.6,-0.5 2055.6,-36.5 \"/>\n<text text-anchor=\"middle\" x=\"2107.6\" y=\"-14.8\" font-family=\"Times,serif\" font-size=\"14.00\">grad 0.1464</text>\n</g>\n<!-- 140535699547920&#45;&gt;140535699550272+ -->\n<g id=\"edge16\" class=\"edge\">\n<title>140535699547920&#45;&gt;140535699550272+</title>\n<path fill=\"none\" stroke=\"black\" d=\"M2159.69,-36.06C2169.05,-37.49 2177.98,-38.85 2186,-40.07\"/>\n<polygon fill=\"black\" stroke=\"black\" points=\"2185.55,-43.54 2195.96,-41.59 2186.61,-36.62 2185.55,-43.54\"/>\n</g>\n<!-- 140535699548448 -->\n<g id=\"node16\" class=\"node\">\n<title>140535699548448</title>\n<polygon fill=\"none\" stroke=\"black\" points=\"774,-111.5 774,-147.5 1090,-147.5 1090,-111.5 774,-111.5\"/>\n<text text-anchor=\"middle\" x=\"826.5\" y=\"-125.8\" font-family=\"Times,serif\" font-size=\"14.00\">x1w1+x2w2</text>\n<polyline fill=\"none\" stroke=\"black\" points=\"879,-111.5 879,-147.5 \"/>\n<text text-anchor=\"middle\" x=\"932.5\" y=\"-125.8\" font-family=\"Times,serif\" font-size=\"14.00\">data &#45;6.0000</text>\n<polyline fill=\"none\" stroke=\"black\" points=\"986,-111.5 986,-147.5 \"/>\n<text text-anchor=\"middle\" x=\"1038\" y=\"-125.8\" font-family=\"Times,serif\" font-size=\"14.00\">grad 0.5000</text>\n</g>\n<!-- 140535699548448&#45;&gt;140535699551760+ -->\n<g id=\"edge18\" class=\"edge\">\n<title>140535699548448&#45;&gt;140535699551760+</title>\n<path fill=\"none\" stroke=\"black\" d=\"M1073.86,-111.49C1089.28,-109.52 1103.78,-107.66 1116.02,-106.1\"/>\n<polygon fill=\"black\" stroke=\"black\" points=\"1116.67,-109.55 1126.15,-104.81 1115.78,-102.6 1116.67,-109.55\"/>\n</g>\n<!-- 140535699548448+&#45;&gt;140535699548448 -->\n<g id=\"edge6\" class=\"edge\">\n<title>140535699548448+&#45;&gt;140535699548448</title>\n<path fill=\"none\" stroke=\"black\" d=\"M738.42,-129.5C745.76,-129.5 754.32,-129.5 763.66,-129.5\"/>\n<polygon fill=\"black\" stroke=\"black\" points=\"763.67,-133 773.67,-129.5 763.67,-126 763.67,-133\"/>\n</g>\n<!-- 140535699103536 -->\n<g id=\"node18\" class=\"node\">\n<title>140535699103536</title>\n<polygon fill=\"none\" stroke=\"black\" points=\"816,-56.5 816,-92.5 1048,-92.5 1048,-56.5 816,-56.5\"/>\n<text text-anchor=\"middle\" x=\"829\" y=\"-70.8\" font-family=\"Times,serif\" font-size=\"14.00\">b</text>\n<polyline fill=\"none\" stroke=\"black\" points=\"842,-56.5 842,-92.5 \"/>\n<text text-anchor=\"middle\" x=\"893\" y=\"-70.8\" font-family=\"Times,serif\" font-size=\"14.00\">data 6.8814</text>\n<polyline fill=\"none\" stroke=\"black\" points=\"944,-56.5 944,-92.5 \"/>\n<text text-anchor=\"middle\" x=\"996\" y=\"-70.8\" font-family=\"Times,serif\" font-size=\"14.00\">grad 0.5000</text>\n</g>\n<!-- 140535699103536&#45;&gt;140535699551760+ -->\n<g id=\"edge26\" class=\"edge\">\n<title>140535699103536&#45;&gt;140535699551760+</title>\n<path fill=\"none\" stroke=\"black\" d=\"M1048.27,-88.71C1072.85,-91.74 1097.04,-94.72 1115.87,-97.05\"/>\n<polygon fill=\"black\" stroke=\"black\" points=\"1115.67,-100.55 1126.02,-98.3 1116.52,-93.6 1115.67,-100.55\"/>\n</g>\n<!-- 140535699540768 -->\n<g id=\"node19\" class=\"node\">\n<title>140535699540768</title>\n<polygon fill=\"none\" stroke=\"black\" points=\"1218.5,-28.5 1218.5,-64.5 1445.5,-64.5 1445.5,-28.5 1218.5,-28.5\"/>\n<text text-anchor=\"middle\" x=\"1229\" y=\"-42.8\" font-family=\"Times,serif\" font-size=\"14.00\"> </text>\n<polyline fill=\"none\" stroke=\"black\" points=\"1239.5,-28.5 1239.5,-64.5 \"/>\n<text text-anchor=\"middle\" x=\"1290.5\" y=\"-42.8\" font-family=\"Times,serif\" font-size=\"14.00\">data 2.0000</text>\n<polyline fill=\"none\" stroke=\"black\" points=\"1341.5,-28.5 1341.5,-64.5 \"/>\n<text text-anchor=\"middle\" x=\"1393.5\" y=\"-42.8\" font-family=\"Times,serif\" font-size=\"14.00\">grad 0.2203</text>\n</g>\n<!-- 140535699540768&#45;&gt;140535699553392* -->\n<g id=\"edge23\" class=\"edge\">\n<title>140535699540768&#45;&gt;140535699553392*</title>\n<path fill=\"none\" stroke=\"black\" d=\"M1445.6,-63.68C1455.87,-65.24 1465.68,-66.74 1474.4,-68.07\"/>\n<polygon fill=\"black\" stroke=\"black\" points=\"1474.05,-71.56 1484.47,-69.61 1475.11,-64.64 1474.05,-71.56\"/>\n</g>\n<!-- 140535699542352 -->\n<g id=\"node20\" class=\"node\">\n<title>140535699542352</title>\n<polygon fill=\"none\" stroke=\"black\" points=\"2815.6,-80.5 2815.6,-116.5 3042.6,-116.5 3042.6,-80.5 2815.6,-80.5\"/>\n<text text-anchor=\"middle\" x=\"2826.1\" y=\"-94.8\" font-family=\"Times,serif\" font-size=\"14.00\"> </text>\n<polyline fill=\"none\" stroke=\"black\" points=\"2836.6,-80.5 2836.6,-116.5 \"/>\n<text text-anchor=\"middle\" x=\"2887.6\" y=\"-94.8\" font-family=\"Times,serif\" font-size=\"14.00\">data 0.1464</text>\n<polyline fill=\"none\" stroke=\"black\" points=\"2938.6,-80.5 2938.6,-116.5 \"/>\n<text text-anchor=\"middle\" x=\"2990.6\" y=\"-94.8\" font-family=\"Times,serif\" font-size=\"14.00\">grad 4.8284</text>\n</g>\n<!-- 140535699542352&#45;&gt;140535699401664* -->\n<g id=\"edge12\" class=\"edge\">\n<title>140535699542352&#45;&gt;140535699401664*</title>\n<path fill=\"none\" stroke=\"black\" d=\"M3043.07,-81.67C3052.37,-80.28 3061.23,-78.96 3069.2,-77.77\"/>\n<polygon fill=\"black\" stroke=\"black\" points=\"3069.73,-81.23 3079.1,-76.3 3068.7,-74.31 3069.73,-81.23\"/>\n</g>\n<!-- 140535699542352**&#45;1 -->\n<g id=\"node21\" class=\"node\">\n<title>140535699542352**&#45;1</title>\n<ellipse fill=\"none\" stroke=\"black\" cx=\"2666.1\" cy=\"-100.5\" rx=\"28.7\" ry=\"18\"/>\n<text text-anchor=\"middle\" x=\"2666.1\" y=\"-96.8\" font-family=\"Times,serif\" font-size=\"14.00\">**&#45;1</text>\n</g>\n<!-- 140535699542352**&#45;1&#45;&gt;140535699542352 -->\n<g id=\"edge7\" class=\"edge\">\n<title>140535699542352**&#45;1&#45;&gt;140535699542352</title>\n<path fill=\"none\" stroke=\"black\" d=\"M2695.03,-100.29C2721.75,-100.08 2763.99,-99.76 2805.21,-99.44\"/>\n<polygon fill=\"black\" stroke=\"black\" points=\"2805.4,-102.94 2815.37,-99.36 2805.35,-95.94 2805.4,-102.94\"/>\n</g>\n<!-- 140535699102048 -->\n<g id=\"node22\" class=\"node\">\n<title>140535699102048</title>\n<polygon fill=\"none\" stroke=\"black\" points=\"2.5,-139.5 2.5,-175.5 246.5,-175.5 246.5,-139.5 2.5,-139.5\"/>\n<text text-anchor=\"middle\" x=\"19.5\" y=\"-153.8\" font-family=\"Times,serif\" font-size=\"14.00\">x1</text>\n<polyline fill=\"none\" stroke=\"black\" points=\"36.5,-139.5 36.5,-175.5 \"/>\n<text text-anchor=\"middle\" x=\"87.5\" y=\"-153.8\" font-family=\"Times,serif\" font-size=\"14.00\">data 2.0000</text>\n<polyline fill=\"none\" stroke=\"black\" points=\"138.5,-139.5 138.5,-175.5 \"/>\n<text text-anchor=\"middle\" x=\"192.5\" y=\"-153.8\" font-family=\"Times,serif\" font-size=\"14.00\">grad &#45;1.5000</text>\n</g>\n<!-- 140535699102048&#45;&gt;140535699551280* -->\n<g id=\"edge11\" class=\"edge\">\n<title>140535699102048&#45;&gt;140535699551280*</title>\n<path fill=\"none\" stroke=\"black\" d=\"M246.64,-157.5C256.7,-157.5 266.26,-157.5 274.79,-157.5\"/>\n<polygon fill=\"black\" stroke=\"black\" points=\"275,-161 285,-157.5 275,-154 275,-161\"/>\n</g>\n<!-- 140535699540240 -->\n<g id=\"node23\" class=\"node\">\n<title>140535699540240</title>\n<polygon fill=\"none\" stroke=\"black\" points=\"2285.6,-82.5 2285.6,-118.5 2516.6,-118.5 2516.6,-82.5 2285.6,-82.5\"/>\n<text text-anchor=\"middle\" x=\"2296.1\" y=\"-96.8\" font-family=\"Times,serif\" font-size=\"14.00\"> </text>\n<polyline fill=\"none\" stroke=\"black\" points=\"2306.6,-82.5 2306.6,-118.5 \"/>\n<text text-anchor=\"middle\" x=\"2357.6\" y=\"-96.8\" font-family=\"Times,serif\" font-size=\"14.00\">data 6.8284</text>\n<polyline fill=\"none\" stroke=\"black\" points=\"2408.6,-82.5 2408.6,-118.5 \"/>\n<text text-anchor=\"middle\" x=\"2462.6\" y=\"-96.8\" font-family=\"Times,serif\" font-size=\"14.00\">grad &#45;0.1036</text>\n</g>\n<!-- 140535699540240&#45;&gt;140535699542352**&#45;1 -->\n<g id=\"edge13\" class=\"edge\">\n<title>140535699540240&#45;&gt;140535699542352**&#45;1</title>\n<path fill=\"none\" stroke=\"black\" d=\"M2516.69,-100.5C2556.38,-100.5 2598.17,-100.5 2627.25,-100.5\"/>\n<polygon fill=\"black\" stroke=\"black\" points=\"2627.37,-104 2637.37,-100.5 2627.37,-97 2627.37,-104\"/>\n</g>\n<!-- 140535699540240+&#45;&gt;140535699540240 -->\n<g id=\"edge8\" class=\"edge\">\n<title>140535699540240+&#45;&gt;140535699540240</title>\n<path fill=\"none\" stroke=\"black\" d=\"M2249.64,-100.5C2257.18,-100.5 2265.96,-100.5 2275.41,-100.5\"/>\n<polygon fill=\"black\" stroke=\"black\" points=\"2275.49,-104 2285.49,-100.5 2275.49,-97 2275.49,-104\"/>\n</g>\n<!-- 140535699548544 -->\n<g id=\"node25\" class=\"node\">\n<title>140535699548544</title>\n<polygon fill=\"none\" stroke=\"black\" points=\"377.5,-84.5 377.5,-120.5 645.5,-120.5 645.5,-84.5 377.5,-84.5\"/>\n<text text-anchor=\"middle\" x=\"408.5\" y=\"-98.8\" font-family=\"Times,serif\" font-size=\"14.00\">x2*w2</text>\n<polyline fill=\"none\" stroke=\"black\" points=\"439.5,-84.5 439.5,-120.5 \"/>\n<text text-anchor=\"middle\" x=\"490.5\" y=\"-98.8\" font-family=\"Times,serif\" font-size=\"14.00\">data 0.0000</text>\n<polyline fill=\"none\" stroke=\"black\" points=\"541.5,-84.5 541.5,-120.5 \"/>\n<text text-anchor=\"middle\" x=\"593.5\" y=\"-98.8\" font-family=\"Times,serif\" font-size=\"14.00\">grad 0.5000</text>\n</g>\n<!-- 140535699548544&#45;&gt;140535699548448+ -->\n<g id=\"edge25\" class=\"edge\">\n<title>140535699548544&#45;&gt;140535699548448+</title>\n<path fill=\"none\" stroke=\"black\" d=\"M644.24,-120.51C655.12,-122 665.4,-123.4 674.45,-124.64\"/>\n<polygon fill=\"black\" stroke=\"black\" points=\"674.11,-128.13 684.49,-126.01 675.05,-121.19 674.11,-128.13\"/>\n</g>\n<!-- 140535699548544*&#45;&gt;140535699548544 -->\n<g id=\"edge9\" class=\"edge\">\n<title>140535699548544*&#45;&gt;140535699548544</title>\n<path fill=\"none\" stroke=\"black\" d=\"M339.23,-102.5C347.26,-102.5 356.72,-102.5 366.99,-102.5\"/>\n<polygon fill=\"black\" stroke=\"black\" points=\"367.08,-106 377.08,-102.5 367.08,-99 367.08,-106\"/>\n</g>\n<!-- 140535699401664 -->\n<g id=\"node27\" class=\"node\">\n<title>140535699401664</title>\n<polygon fill=\"none\" stroke=\"black\" points=\"3168.6,-54.5 3168.6,-90.5 3399.6,-90.5 3399.6,-54.5 3168.6,-54.5\"/>\n<text text-anchor=\"middle\" x=\"3181.1\" y=\"-68.8\" font-family=\"Times,serif\" font-size=\"14.00\">o</text>\n<polyline fill=\"none\" stroke=\"black\" points=\"3193.6,-54.5 3193.6,-90.5 \"/>\n<text text-anchor=\"middle\" x=\"3244.6\" y=\"-68.8\" font-family=\"Times,serif\" font-size=\"14.00\">data 0.7071</text>\n<polyline fill=\"none\" stroke=\"black\" points=\"3295.6,-54.5 3295.6,-90.5 \"/>\n<text text-anchor=\"middle\" x=\"3347.6\" y=\"-68.8\" font-family=\"Times,serif\" font-size=\"14.00\">grad 1.0000</text>\n</g>\n<!-- 140535699401664*&#45;&gt;140535699401664 -->\n<g id=\"edge10\" class=\"edge\">\n<title>140535699401664*&#45;&gt;140535699401664</title>\n<path fill=\"none\" stroke=\"black\" d=\"M3132.64,-72.5C3140.18,-72.5 3148.96,-72.5 3158.41,-72.5\"/>\n<polygon fill=\"black\" stroke=\"black\" points=\"3158.49,-76 3168.49,-72.5 3158.49,-69 3158.49,-76\"/>\n</g>\n</g>\n</svg>\n",
      "text/plain": [
       "<graphviz.graphs.Digraph at 0x7fd10470f970>"
      ]
     },
     "execution_count": 115,
     "metadata": {},
     "output_type": "execute_result"
    }
   ],
   "source": [
    "#inputs of nn\n",
    "x1 = Value(2.0,label='x1')\n",
    "x2 = Value(0.0,label='x2')\n",
    "#weights of nn\n",
    "w1 = Value(-3.0,label='w1')\n",
    "w2 = Value(1.0,label='w2')\n",
    "#bias of nn\n",
    "b = Value(6.8813735830195432,label='b')\n",
    "\n",
    "x1w1 = x1*w1; x1w1.label = 'x1*w1'\n",
    "x2w2 = x2*w2; x2w2.label = 'x2*w2'\n",
    "x1w1x2w2 = x1w1+x2w2; x1w1x2w2.label='x1w1+x2w2'\n",
    "n = x1w1x2w2 + b ; n.label='n'\n",
    "# we have to implement tanh in Value class\n",
    "#===============================\n",
    "e = (2*n).exp()\n",
    "\n",
    "o = (e-1)/(e+1) ;o.label ='o'\n",
    "\n",
    "#===============================\n",
    "o.backward()\n",
    "draw_dot(o)"
   ]
  },
  {
   "cell_type": "markdown",
   "metadata": {},
   "source": [
    "We got the same ouputs but with different graph because we divide tanh into small pieces"
   ]
  },
  {
   "cell_type": "code",
   "execution_count": null,
   "metadata": {},
   "outputs": [],
   "source": []
  }
 ],
 "metadata": {
  "kernelspec": {
   "display_name": "Python 3.10.4 ('tabular-ds')",
   "language": "python",
   "name": "python3"
  },
  "language_info": {
   "codemirror_mode": {
    "name": "ipython",
    "version": 3
   },
   "file_extension": ".py",
   "mimetype": "text/x-python",
   "name": "python",
   "nbconvert_exporter": "python",
   "pygments_lexer": "ipython3",
   "version": "3.10.6"
  },
  "orig_nbformat": 4,
  "vscode": {
   "interpreter": {
    "hash": "90f25bca5f0e02906c32171d2dfdcae51d4e9ae2d02a9cef0aa8b5c0c8a4f68a"
   }
  }
 },
 "nbformat": 4,
 "nbformat_minor": 2
}
